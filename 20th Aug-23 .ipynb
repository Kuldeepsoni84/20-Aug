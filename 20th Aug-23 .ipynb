{
 "cells": [
  {
   "cell_type": "code",
   "execution_count": 1,
   "id": "04375f50-c833-4579-8191-aa4fe1c7f50e",
   "metadata": {},
   "outputs": [],
   "source": [
    "#1. Write a program to reverse a string.\n",
    "s=\"Hello Sttudents \"\n",
    "rev_str=s[::-1]"
   ]
  },
  {
   "cell_type": "code",
   "execution_count": 2,
   "id": "d7411391-d345-4a0c-bf4e-8a1d32be7fb3",
   "metadata": {},
   "outputs": [
    {
     "name": "stdout",
     "output_type": "stream",
     "text": [
      "palindrome\n"
     ]
    }
   ],
   "source": [
    "#2. Check if a string is a palindrome.\n",
    "str1='radar'\n",
    "rev_str=str1[::-1] # reverse the Given String\n",
    "if rev_str == str1:\n",
    "    print(\"palindrome\")\n",
    "else:\n",
    "    print(\" Not palindrome\")"
   ]
  },
  {
   "cell_type": "code",
   "execution_count": 2,
   "id": "b34c88f7-b6d8-49c2-a139-aeef8b0c7a09",
   "metadata": {},
   "outputs": [
    {
     "name": "stdin",
     "output_type": "stream",
     "text": [
      "Enter A String trtyyy\n"
     ]
    },
    {
     "name": "stdout",
     "output_type": "stream",
     "text": [
      "TRTYYY\n"
     ]
    }
   ],
   "source": [
    "#3. Convert a string to uppercase.\n",
    "in_str=input(\"Enter A String\")\n",
    "# change to uppercase\n",
    "in_str=in_str.upper()\n",
    "print(in_str)"
   ]
  },
  {
   "cell_type": "code",
   "execution_count": 5,
   "id": "76e144c4-a10d-4dd6-8c93-048aa5bfa934",
   "metadata": {},
   "outputs": [
    {
     "name": "stdin",
     "output_type": "stream",
     "text": [
      "Enter A String GITI\n"
     ]
    },
    {
     "name": "stdout",
     "output_type": "stream",
     "text": [
      "giti\n"
     ]
    }
   ],
   "source": [
    "#4. Convert a string to lowercase.\n",
    "in_str=input(\"Enter A String\")\n",
    "# change to Lowerrcase\n",
    "in_str=in_str.lower()\n",
    "print(in_str)"
   ]
  },
  {
   "cell_type": "code",
   "execution_count": 6,
   "id": "a5e4bd67-b814-4608-9ffa-b683d8c833e9",
   "metadata": {},
   "outputs": [
    {
     "name": "stdin",
     "output_type": "stream",
     "text": [
      "Enter A String uuudusy\n"
     ]
    },
    {
     "name": "stdout",
     "output_type": "stream",
     "text": [
      "4\n"
     ]
    }
   ],
   "source": [
    "#5. Count the number of vowels in a string.\n",
    "in_str=input(\"Enter A String\")\n",
    "count_vowel=0\n",
    "# loop to count each vowel \n",
    "for v in \"aeiouAEIOU\":\n",
    "    count_vowel+=in_str.count(v)\n",
    "print(count_vowel)"
   ]
  },
  {
   "cell_type": "code",
   "execution_count": 8,
   "id": "6819631d-bc00-4247-a15b-671573d7bc60",
   "metadata": {},
   "outputs": [
    {
     "name": "stdin",
     "output_type": "stream",
     "text": [
      "Enter A String hyu45 @#\n"
     ]
    },
    {
     "name": "stdout",
     "output_type": "stream",
     "text": [
      "3\n"
     ]
    }
   ],
   "source": [
    "#6. Count the number of consonants in a string.\n",
    "in_str=input(\"Enter A String\")\n",
    "count_cons=0\n",
    "# loop to count each consonants\n",
    "for c in in_str:\n",
    "    if c.isalpha():  #  check if it is alphabets or other char\n",
    "        count_cons+=1\n",
    "print(count_cons)"
   ]
  },
  {
   "cell_type": "code",
   "execution_count": null,
   "id": "ec5393cc-afca-4701-b7f2-f41a38e57e30",
   "metadata": {},
   "outputs": [],
   "source": [
    "#7. Remove all whitespaces from a string.\n",
    "in_str=input(\"Enter A String\")\n",
    "#remove all start and end Whitspace char\n",
    "in_str=in_str.strip()"
   ]
  },
  {
   "cell_type": "code",
   "execution_count": 1,
   "id": "4894dce1-2034-46b3-b2dc-40fed2eb6cf1",
   "metadata": {},
   "outputs": [
    {
     "name": "stdin",
     "output_type": "stream",
     "text": [
      "Enter A String uioiuuiio\n"
     ]
    },
    {
     "name": "stdout",
     "output_type": "stream",
     "text": [
      "9\n"
     ]
    }
   ],
   "source": [
    "#8. Find the length of a string without using the `len()` function.\n",
    "in_str=input(\"Enter A String\")\n",
    "str_len=0\n",
    "# loop to iterate each char\n",
    "for c in in_str:\n",
    "    str_len+=1  # increase \n",
    "print(str_len)"
   ]
  },
  {
   "cell_type": "code",
   "execution_count": 10,
   "id": "d7b03f47-385f-43ce-88df-7ef1cf9b919b",
   "metadata": {},
   "outputs": [
    {
     "name": "stdin",
     "output_type": "stream",
     "text": [
      "Enter A String hello how  are you\n"
     ]
    },
    {
     "data": {
      "text/plain": [
       "True"
      ]
     },
     "execution_count": 10,
     "metadata": {},
     "output_type": "execute_result"
    }
   ],
   "source": [
    "#Check if a string contains a specific word.\n",
    "#defining a function\n",
    "def iscontain(in_str,word):\n",
    "    if in_str.split().count(word):\n",
    "        return True\n",
    "    else:\n",
    "        return False\n",
    "in_str=input(\"Enter A String\")# input a string\n",
    "word=input(\"Enter a Word \")# input Finding word\n",
    "iscontain(in_str,word)"
   ]
  },
  {
   "cell_type": "code",
   "execution_count": null,
   "id": "75ec7dbe-0940-49b9-a1e2-5431dda52fad",
   "metadata": {},
   "outputs": [
    {
     "name": "stdin",
     "output_type": "stream",
     "text": [
      "Enter A String hello students how are you\n",
      "Enter old word students\n"
     ]
    }
   ],
   "source": [
    "#10. Replace a word in a string with another word.\n",
    "in_str=input(\"Enter A String\")# input a string\n",
    "old_word=input(\"Enter old word\")# input old Substring or word\n",
    "new_word=input(\"Enter new word\")# input a new word or Substring\n",
    "# replace String With Substring\n",
    "in_str=in_str.replace(old_word,new_word)\n",
    "print(in_str)"
   ]
  },
  {
   "cell_type": "code",
   "execution_count": null,
   "id": "13b6f0ed-6fe4-4e8e-a52a-b5f8da64ff17",
   "metadata": {},
   "outputs": [],
   "source": [
    "#11. Count the occurrences of a word in a string.\n",
    "in_str=input(\"Enter A String\")# input a string\n",
    "word=input(\"Enter a word\")# input Substring or word to be count\n",
    "print(in_str.split().count(word))#print the no of occurrences of a word in a string"
   ]
  },
  {
   "cell_type": "code",
   "execution_count": 13,
   "id": "b016ec1d-f323-4659-bac9-868bc3a6d65d",
   "metadata": {},
   "outputs": [
    {
     "name": "stdin",
     "output_type": "stream",
     "text": [
      "Enter A String hello how are you you\n",
      "Enter a word you\n"
     ]
    },
    {
     "name": "stdout",
     "output_type": "stream",
     "text": [
      "14\n"
     ]
    }
   ],
   "source": [
    "#12 Find the first occurrence of a word in a string.\n",
    "in_str=input(\"Enter A String\")# input a string\n",
    "word=input(\"Enter a word\")# input Substring or word to be find\n",
    "#find first occurence\n",
    "print(in_str.find(word))"
   ]
  },
  {
   "cell_type": "code",
   "execution_count": null,
   "id": "d7c3c6c2-913e-4d1a-9408-f86539fd2c50",
   "metadata": {},
   "outputs": [],
   "source": [
    "#13 Find the last occurrence of a word in a string.\n",
    "in_str=input(\"Enter A String\")# input a string\n",
    "word=input(\"Enter a word\")# input Substring or word to be find\n",
    "#find first occurence\n",
    "print(in_str.rfind(word))"
   ]
  },
  {
   "cell_type": "code",
   "execution_count": null,
   "id": "71ce0fba-fb41-4cf9-a599-c72cadea11e3",
   "metadata": {},
   "outputs": [],
   "source": [
    "#14. Split a string into a list of words.\n",
    "in_str=input(\"Enter A String\")# input a string\n",
    "word_list=in_str.split()# solit the string\n",
    "print(word_list"
   ]
  },
  {
   "cell_type": "code",
   "execution_count": 14,
   "id": "14d00512-cd1e-4a44-aaef-0f4025875e1c",
   "metadata": {},
   "outputs": [
    {
     "name": "stdout",
     "output_type": "stream",
     "text": [
      "Hello Students How Are You\n"
     ]
    }
   ],
   "source": [
    "#15. Join a list of words into a string.\n",
    "word_list=['Hello','Students','How','Are','You']\n",
    "#join the list to make a string or sentance\n",
    "new_str=' '.join(word_list)\n",
    "print(new_str)"
   ]
  },
  {
   "cell_type": "code",
   "execution_count": null,
   "id": "dc1a1f93-a5ad-4243-a1d0-60d428de28be",
   "metadata": {},
   "outputs": [],
   "source": [
    "'''15. Convert a string where words are separated by spaces to one where words\n",
    "are separated by underscores.'''\n",
    "in_str=input(\"Enter A String\")# input a string\n",
    "#split the string\n",
    "word_list=in_str.split()\n",
    "#join the list to make a string or sentance\n",
    "new_str='_'.join(word_list)\n",
    "print(new_str)"
   ]
  },
  {
   "cell_type": "code",
   "execution_count": 16,
   "id": "3483d4f3-843f-491e-991d-de7515aecf57",
   "metadata": {},
   "outputs": [
    {
     "name": "stdin",
     "output_type": "stream",
     "text": [
      "Enter A String hello aow are you\n",
      "Enter a Word  hello\n"
     ]
    },
    {
     "name": "stdout",
     "output_type": "stream",
     "text": [
      "True\n"
     ]
    }
   ],
   "source": [
    "#17. Check if a string starts with a specific word or phrase.\n",
    "def isstartwith(in_str,word):\n",
    "    if in_str.startswith(word):\n",
    "        return True\n",
    "    else:\n",
    "        return False\n",
    "in_str=input(\"Enter A String\")# input a string\n",
    "strt_word=input(\"Enter a Word \")# input start word\n",
    "print(isstartwith(in_str,strt_word.strip()))"
   ]
  },
  {
   "cell_type": "code",
   "execution_count": 20,
   "id": "a3230e90-af3e-469e-931d-a5400d2975f6",
   "metadata": {},
   "outputs": [
    {
     "name": "stdin",
     "output_type": "stream",
     "text": [
      "Enter A String hello how are you\n",
      "Enter a end Word  you\n"
     ]
    },
    {
     "name": "stdout",
     "output_type": "stream",
     "text": [
      "True\n"
     ]
    }
   ],
   "source": [
    "#18. Check if a string ends with a specific word or phrase.\n",
    "def isendwith(in_str,word):\n",
    "    if in_str.endswith(word):\n",
    "        return True\n",
    "    else:\n",
    "        return False\n",
    "in_str=input(\"Enter A String\")# input a string\n",
    "end_word=input(\"Enter a end Word \")# input end word\n",
    "print(isendwith(in_str.strip(),end_word.strip()))"
   ]
  },
  {
   "cell_type": "code",
   "execution_count": 21,
   "id": "6f475f1c-d779-45eb-8838-6653c5a11c68",
   "metadata": {},
   "outputs": [
    {
     "name": "stdin",
     "output_type": "stream",
     "text": [
      "Enter A String hello how are you\n"
     ]
    },
    {
     "name": "stdout",
     "output_type": "stream",
     "text": [
      "Hello How Are You\n"
     ]
    }
   ],
   "source": [
    "#19. Convert a string to title case (e.g., \"hello world\" to \"Hello World\").\n",
    "in_str=input(\"Enter A String\")# input a string\n",
    "title_str=in_str.title() # convert string to title case\n",
    "print(title_str)"
   ]
  },
  {
   "cell_type": "code",
   "execution_count": 23,
   "id": "b0b75c85-516b-42d9-b602-b66393eafed7",
   "metadata": {},
   "outputs": [
    {
     "name": "stdin",
     "output_type": "stream",
     "text": [
      "Enter A String hello students how are you\n"
     ]
    },
    {
     "name": "stdout",
     "output_type": "stream",
     "text": [
      "students\n"
     ]
    }
   ],
   "source": [
    "#20. Find the longest word in a string.\n",
    "in_str=input(\"Enter A String\")# input a string\n",
    "longest_word=''# initially longest word\n",
    "for word in in_str.split():\n",
    "    if len(word)>=len(longest_word): # check new longest word \n",
    "        longest_word=word\n",
    "print(longest_word)\n",
    "# this program find the Last longest word in the Sting"
   ]
  },
  {
   "cell_type": "code",
   "execution_count": 26,
   "id": "2debbbcf-0e0c-47f2-9a3a-2df5012e2ec0",
   "metadata": {},
   "outputs": [
    {
     "name": "stdin",
     "output_type": "stream",
     "text": [
      "Enter A String hello how are you\n"
     ]
    },
    {
     "name": "stdout",
     "output_type": "stream",
     "text": [
      "how\n"
     ]
    }
   ],
   "source": [
    "#21. Find the shortest word in a string.\n",
    "\n",
    "def smallestWord(s):\n",
    "    # Using sorted() method\n",
    "    s = sorted(s, key = len)\n",
    "    # Print first word\n",
    "    print(s[0])\n",
    "in_str=input(\"Enter A String\")# input a string\n",
    "# Convert string to list\n",
    "l = in_str.split()\n",
    "smallestWord(l)"
   ]
  },
  {
   "cell_type": "code",
   "execution_count": 29,
   "id": "3a8d7430-3a49-4882-893a-29167e030070",
   "metadata": {},
   "outputs": [
    {
     "name": "stdin",
     "output_type": "stream",
     "text": [
      "Enter A String hello how are you\n"
     ]
    },
    {
     "name": "stdout",
     "output_type": "stream",
     "text": [
      "you are how hello\n"
     ]
    }
   ],
   "source": [
    "#22. Reverse the order of words in a string.\n",
    "in_str=input(\"Enter A String\")# input a string\n",
    "# reverse the order of word in  string by using  split and join method\n",
    "word_list=in_str.split()\n",
    "word_list.reverse()\n",
    "rev_str=' '.join(word_list)\n",
    "print(rev_str)"
   ]
  },
  {
   "cell_type": "code",
   "execution_count": 31,
   "id": "d05b17da-6506-4f7d-9eb8-664ef03e090c",
   "metadata": {},
   "outputs": [
    {
     "name": "stdin",
     "output_type": "stream",
     "text": [
      "Enter A String itit789798h89879bjbjkl\n"
     ]
    },
    {
     "name": "stdout",
     "output_type": "stream",
     "text": [
      "True\n"
     ]
    }
   ],
   "source": [
    "#23. Check if a string is alphanumeric.\n",
    "#define a function \n",
    "def isalphanum(s):\n",
    "    # by using isalnum function\n",
    "    if s.isalnum():\n",
    "        return True\n",
    "    else:\n",
    "        return False\n",
    "in_str=input(\"Enter A String\")# input a string\n",
    "#calling function and print the result\n",
    "print(isalphanum(in_str))"
   ]
  },
  {
   "cell_type": "code",
   "execution_count": 32,
   "id": "6da57281-b7be-4dd0-8bbe-2417eff0b351",
   "metadata": {},
   "outputs": [
    {
     "name": "stdin",
     "output_type": "stream",
     "text": [
      "Enter A String delhi 1011220\n"
     ]
    },
    {
     "name": "stdout",
     "output_type": "stream",
     "text": [
      "['1', '0', '1', '1', '2', '2', '0']\n"
     ]
    }
   ],
   "source": [
    "#24. Extract all digits from a string.\n",
    "in_str=input(\"Enter A String\")# input a string\n",
    "digit_list=[x for x in in_str if x.isdigit()] # by using isdigit and list Comprehension\n",
    "print(digit_list) #show all digits"
   ]
  },
  {
   "cell_type": "code",
   "execution_count": 34,
   "id": "aa0ad4b0-85fd-47fc-b4cf-feb7777f2501",
   "metadata": {},
   "outputs": [
    {
     "name": "stdin",
     "output_type": "stream",
     "text": [
      "Enter A String Delhi 1100021\n"
     ]
    },
    {
     "name": "stdout",
     "output_type": "stream",
     "text": [
      "['D', 'e', 'l', 'h', 'i']\n"
     ]
    }
   ],
   "source": [
    "#25. Extract all alphabets from a string.\n",
    "in_str=input(\"Enter A String\")# input a string\n",
    "char_list=[x for x in in_str if x.isalpha()] # by using isalpha and list Comprehension\n",
    "print(char_list) #show all char"
   ]
  },
  {
   "cell_type": "code",
   "execution_count": 40,
   "id": "16cc06ae-9ce2-47cc-a221-c24a5e87c87c",
   "metadata": {},
   "outputs": [
    {
     "name": "stdin",
     "output_type": "stream",
     "text": [
      "Enter A String Delhi 120221\n"
     ]
    },
    {
     "name": "stdout",
     "output_type": "stream",
     "text": [
      "1\n"
     ]
    }
   ],
   "source": [
    "#26. Count the number of uppercase letters in a string.\n",
    "in_str=input(\"Enter A String\")# input a string\n",
    "char_list=[x for x in in_str if x.isalpha() and x.isupper()] # by using isalpha and list Comprehension\n",
    "print(len(char_list)) #show count upper case char"
   ]
  },
  {
   "cell_type": "code",
   "execution_count": 41,
   "id": "a5ba83c3-74d3-4367-a1b8-b8b2fbd5c5b4",
   "metadata": {},
   "outputs": [
    {
     "name": "stdin",
     "output_type": "stream",
     "text": [
      "Enter A String Delhi 121200\n"
     ]
    },
    {
     "name": "stdout",
     "output_type": "stream",
     "text": [
      "4\n"
     ]
    }
   ],
   "source": [
    "#27. Count the number of lowercase letters in a string.\n",
    "in_str=input(\"Enter A String\")# input a string\n",
    "char_list=[x for x in in_str if x.isalpha() and x.islower()] # by using isalpha and list Comprehension\n",
    "print(len(char_list)) #show count upper case char"
   ]
  },
  {
   "cell_type": "code",
   "execution_count": 42,
   "id": "8d182db8-fd58-460f-b724-4ea4b765b2a2",
   "metadata": {},
   "outputs": [
    {
     "name": "stdin",
     "output_type": "stream",
     "text": [
      "Enter A String Hello Studebts\n"
     ]
    },
    {
     "name": "stdout",
     "output_type": "stream",
     "text": [
      "hELLO sTUDEBTS\n"
     ]
    }
   ],
   "source": [
    "#28. Swap the case of each character in a string.\n",
    "in_str=input(\"Enter A String\")# input a string\n",
    "# by using swapcase method\n",
    "swapcase_str=in_str.swapcase()\n",
    "print(swapcase_str)"
   ]
  },
  {
   "cell_type": "code",
   "execution_count": null,
   "id": "81f60ce9-b34a-42c9-9f6f-c8b0377eebf5",
   "metadata": {},
   "outputs": [],
   "source": [
    "#29. Remove a specific word from a string.\n",
    "in_str=input(\"Enter A String\")# input a string\n",
    "old_word=input(\"Enter word want to replace\")\n",
    "# by using replace method\n",
    "new_str=in_str.replace(old_word,'')\n",
    "print(new_str)# show new string after removing given word"
   ]
  },
  {
   "cell_type": "code",
   "execution_count": 45,
   "id": "a2203800-4a65-4e8c-a234-6a84231bac11",
   "metadata": {},
   "outputs": [
    {
     "name": "stdin",
     "output_type": "stream",
     "text": [
      "Enter Email Address kuld.fgrr@gmail.com\n"
     ]
    },
    {
     "name": "stdout",
     "output_type": "stream",
     "text": [
      "Valid Email\n"
     ]
    }
   ],
   "source": [
    "#30.Check if a string is a valid email address.\n",
    "import re\n",
    "# Make a regular expression\n",
    "# for validating an Email\n",
    "email=input(\"Enter Email Address\")# input a Email Address\n",
    "regex = r'\\b[A-Za-z0-9._%+-]+@[A-Za-z0-9.-]+\\.[A-Z|a-z]{2,7}\\b'\n",
    "# pass the regular expression\n",
    "# and the string into the fullmatch() method\n",
    "if(re.fullmatch(regex, email)):\n",
    "    print(\"Valid Email\")\n",
    "else:\n",
    "    print(\"Invalid Email\")"
   ]
  },
  {
   "cell_type": "code",
   "execution_count": 46,
   "id": "d9720834-18e0-44ff-8852-44ab9a6e6a7f",
   "metadata": {},
   "outputs": [
    {
     "name": "stdin",
     "output_type": "stream",
     "text": [
      "Enter Email Address kulfrrr.cdyy.uytuy@live.com\n"
     ]
    },
    {
     "name": "stdout",
     "output_type": "stream",
     "text": [
      "User Name: kulfrrr.cdyy.uytuy\n"
     ]
    }
   ],
   "source": [
    "#31. Extract the username from an email address string.\n",
    "email=input(\"Enter Email Address\")# input a Email Address\n",
    "#by using indexing and split method\n",
    "user_name=email.split('@')[0]\n",
    "print(\"User Name:\",user_name)"
   ]
  },
  {
   "cell_type": "code",
   "execution_count": 47,
   "id": "9279f780-0da5-44b4-9b89-0749f3bd86cd",
   "metadata": {},
   "outputs": [
    {
     "name": "stdin",
     "output_type": "stream",
     "text": [
      "Enter Email Address kuldeepsoni84@live.com\n"
     ]
    },
    {
     "name": "stdout",
     "output_type": "stream",
     "text": [
      "User Name: live.com\n"
     ]
    }
   ],
   "source": [
    "#32. Extract the domain name from an email address string.\n",
    "email=input(\"Enter Email Address\")# input a Email Address\n",
    "#by using indexing and split method\n",
    "domain_name=email.split('@')[1]\n",
    "print(\"User Name:\",domain_name)"
   ]
  },
  {
   "cell_type": "code",
   "execution_count": 50,
   "id": "89178c47-140c-4055-ab12-03c8e53cae31",
   "metadata": {},
   "outputs": [
    {
     "name": "stdin",
     "output_type": "stream",
     "text": [
      "Enter A String hello     students  how  are you\n"
     ]
    },
    {
     "name": "stdout",
     "output_type": "stream",
     "text": [
      "hello students how are you\n"
     ]
    }
   ],
   "source": [
    "#33. Replace multiple spaces in a string with a single space.\n",
    "in_str=input(\"Enter A String\")# input a string\n",
    "#remove multispace from string by using split and join method of string\n",
    "word_list=in_str.split() # remove multi space\n",
    "new_str=\" \".join(word_list) # join all word of list with single space\n",
    "print(new_str)# display new string"
   ]
  },
  {
   "cell_type": "code",
   "execution_count": 3,
   "id": "b3230921-5bec-4e5a-a911-c6b2b64e588b",
   "metadata": {},
   "outputs": [
    {
     "name": "stdin",
     "output_type": "stream",
     "text": [
      "Enter A String https://www.google.com\n"
     ]
    },
    {
     "name": "stdout",
     "output_type": "stream",
     "text": [
      "Valid url\n"
     ]
    }
   ],
   "source": [
    "#34. Check if a string is a valid URL.\n",
    "# tbefore use to  validators First run pip install validators command on your notebook \n",
    "import validators # import validator to validate url in python.  \n",
    "url=input(\"Enter A String\")# input a url string\n",
    "if validators.url(url):\n",
    "    print(\"Valid url\")\n",
    "else:\n",
    "    print(\"Invalid Url\")\n"
   ]
  },
  {
   "cell_type": "code",
   "execution_count": 6,
   "id": "fb76aea9-b182-4d30-8ca2-cf50afd7b19b",
   "metadata": {},
   "outputs": [
    {
     "name": "stdin",
     "output_type": "stream",
     "text": [
      "Enter valid url https://www.google.com\n"
     ]
    },
    {
     "name": "stdout",
     "output_type": "stream",
     "text": [
      "Protocol Name: https:\n"
     ]
    }
   ],
   "source": [
    "#35. Extract the protocol (http or https) from a URL string.\n",
    "url=input(\"Enter valid url\")# input a Email Address\n",
    "#by using indexing and split method\n",
    "protocol_name=url.split('//')[0]\n",
    "print(\"Protocol Name:\",protocol_name)"
   ]
  },
  {
   "cell_type": "code",
   "execution_count": 7,
   "id": "8447a5db-2d6c-48c1-8352-24fb13891b73",
   "metadata": {},
   "outputs": [
    {
     "name": "stdin",
     "output_type": "stream",
     "text": [
      "Enter A String hello students how are you\n"
     ]
    },
    {
     "name": "stdout",
     "output_type": "stream",
     "text": [
      "{'h': 2, 'e': 3, 'l': 2, 'o': 3, ' ': 4, 's': 2, 't': 2, 'u': 2, 'd': 1, 'n': 1, 'w': 1, 'a': 1, 'r': 1, 'y': 1}\n"
     ]
    }
   ],
   "source": [
    "#36. Find the frequency of each character in a string.\n",
    "in_str=input(\"Enter A String\")# input a string\n",
    "freq_dict={} # create empty dictionary to store frequency of each char\n",
    "for ch in in_str:\n",
    "    freq_dict[ch]=in_str.count(ch)\n",
    "print(freq_dict)"
   ]
  },
  {
   "cell_type": "code",
   "execution_count": 26,
   "id": "0fda80b4-de69-4b25-b88c-d0f94250aa75",
   "metadata": {},
   "outputs": [
    {
     "name": "stdin",
     "output_type": "stream",
     "text": [
      "Enter a String ryry yr67ghjt.,;\n"
     ]
    },
    {
     "name": "stdout",
     "output_type": "stream",
     "text": [
      "ryry yr67ghjt\n"
     ]
    }
   ],
   "source": [
    "#37. Remove all punctuation from a string.\n",
    "import string # import string module to use translate  \n",
    "in_str=input(\"Enter a String\") \n",
    "in_str = in_str.translate(str.maketrans('', '', string.punctuation))\n",
    "print(in_str)"
   ]
  },
  {
   "cell_type": "code",
   "execution_count": 4,
   "id": "e67a07ec-3823-4b83-a63d-3ea065822b0d",
   "metadata": {},
   "outputs": [
    {
     "name": "stdin",
     "output_type": "stream",
     "text": [
      "enter a string 12345 7676\n"
     ]
    },
    {
     "name": "stdout",
     "output_type": "stream",
     "text": [
      "False\n"
     ]
    }
   ],
   "source": [
    "#38. Check if a string contains only digits.\n",
    "#defining a function\n",
    "def onlyDigit(str):\n",
    "    if str.isdigit(): # by using isdigit method to check string contain only digits or not\n",
    "        return True\n",
    "    else:\n",
    "        return False\n",
    "in_str=input(\"enter a string\")# input String\n",
    "#call the function\n",
    "print(onlyDigit(in_str))"
   ]
  },
  {
   "cell_type": "code",
   "execution_count": 8,
   "id": "9d8ee9c2-08d3-4f65-b11a-3d80b00b993c",
   "metadata": {},
   "outputs": [
    {
     "name": "stdin",
     "output_type": "stream",
     "text": [
      "enter a string Hello\n"
     ]
    },
    {
     "name": "stdout",
     "output_type": "stream",
     "text": [
      "True\n"
     ]
    }
   ],
   "source": [
    "#39. Check if a string contains only alphabets.\n",
    "#defining a function\n",
    "def onlyAlpha(str):\n",
    "    if str.isalpha(): # by using isalpha method to check string contain only alphabets or not\n",
    "        return True\n",
    "    else:\n",
    "        return False\n",
    "in_str=input(\"enter a string\")# input String\n",
    "#call the function\n",
    "print(onlyAlpha(in_str))"
   ]
  },
  {
   "cell_type": "code",
   "execution_count": 9,
   "id": "528c7e37-3871-4ae6-9755-d3c6efa0276a",
   "metadata": {},
   "outputs": [
    {
     "name": "stdin",
     "output_type": "stream",
     "text": [
      "enter a string gjgi iyi yiyi\n"
     ]
    },
    {
     "name": "stdout",
     "output_type": "stream",
     "text": [
      "['g', 'j', 'g', 'i', ' ', 'i', 'y', 'i', ' ', 'y', 'i', 'y', 'i']\n"
     ]
    }
   ],
   "source": [
    "#40. Convert a string to a list of characters.\n",
    "in_str=input(\"enter a string\")# input String\n",
    "# converting string to list by sing list method\n",
    "char_list=list(in_str)\n",
    "print(char_list)"
   ]
  },
  {
   "cell_type": "code",
   "execution_count": 10,
   "id": "584aadeb-67c9-4f90-bbf8-96d872723e90",
   "metadata": {},
   "outputs": [
    {
     "name": "stdin",
     "output_type": "stream",
     "text": [
      "enter a first string rtert\n",
      "enter a second string tretr\n"
     ]
    },
    {
     "name": "stdout",
     "output_type": "stream",
     "text": [
      "True\n"
     ]
    }
   ],
   "source": [
    "#41. Check if two strings are anagrams.\n",
    "#defining a function\n",
    "def isAnagram(str1, str2):\n",
    "    if sorted(str1) == sorted(str2):\n",
    "        return True\n",
    "    else:\n",
    "        return False\n",
    "in_str1=input(\"enter a first string\")# input String1\n",
    "in_str2=input(\"enter a second string\")# input String2\n",
    "#calling the function\n",
    "print(isAnagram(in_str1,in_str2))\n"
   ]
  },
  {
   "cell_type": "code",
   "execution_count": 14,
   "id": "51c0ba54-4cca-4f81-afc7-3654736bbb06",
   "metadata": {},
   "outputs": [
    {
     "name": "stdin",
     "output_type": "stream",
     "text": [
      "enter a first string ABC\n"
     ]
    },
    {
     "name": "stdout",
     "output_type": "stream",
     "text": [
      "DEF\n"
     ]
    }
   ],
   "source": [
    "#42. Encode a string using a Caesar cipher.\n",
    "#defining a function\n",
    "def encodeCaesarcipher(str1):\n",
    "    en_msg=[chr(ord(ch)+3) for ch in str1]\n",
    "    return \"\".join(en_msg)\n",
    "in_msg=input(\"Enter a Massage String\")# input String\n",
    "print(encodeCaesarcipher(in_msg))"
   ]
  },
  {
   "cell_type": "code",
   "execution_count": 18,
   "id": "a8c6295e-3537-45be-a093-f8f523689a1d",
   "metadata": {},
   "outputs": [
    {
     "name": "stdin",
     "output_type": "stream",
     "text": [
      "Enter a Encoded Massage DEF\n"
     ]
    },
    {
     "name": "stdout",
     "output_type": "stream",
     "text": [
      "ABC\n"
     ]
    }
   ],
   "source": [
    "#43. Decode a Caesar cipher encoded string.\n",
    "#defining a function\n",
    "def decodeCaesarcipher(str1):\n",
    "    de_msg=[chr(ord(ch)-3) for ch in str1]\n",
    "    return \"\".join(de_msg)\n",
    "encoded_msg=input(\"Enter a Encoded Massage\")# input String\n",
    "print(decodeCaesarcipher(encoded_msg))@calling the function"
   ]
  },
  {
   "cell_type": "code",
   "execution_count": 21,
   "id": "ad1427cb-fc9e-4f0c-9ca5-e7520ec934b4",
   "metadata": {},
   "outputs": [
    {
     "name": "stdin",
     "output_type": "stream",
     "text": [
      "Enter a string hello hi you are hi hi hello uou you hi hi\n"
     ]
    },
    {
     "name": "stdout",
     "output_type": "stream",
     "text": [
      "hi\n"
     ]
    }
   ],
   "source": [
    "#44. Find the most frequent word in a string.\n",
    "#deining the function\n",
    "def max_Freq_Word(str1):\n",
    "    #spit the input string\n",
    "    word_list=str1.split()\n",
    "    #max_freq_word_count=0\n",
    "    max_freq_word=\"\"\n",
    "    for word in word_list:\n",
    "        if word_list.count(word)>= word_list.count(max_freq_word):\n",
    "            max_freq_word=word\n",
    "    return max_freq_word\n",
    "in_str=input(\"Enter a string\")# input String\n",
    "#calling the function\n",
    "print(max_Freq_Word(in_str))\n"
   ]
  },
  {
   "cell_type": "code",
   "execution_count": 23,
   "id": "4be20ec1-1cf2-42f5-86cb-b6d5993eddb9",
   "metadata": {},
   "outputs": [
    {
     "name": "stdin",
     "output_type": "stream",
     "text": [
      "Enter a string hello hi hi you are\n"
     ]
    },
    {
     "name": "stdout",
     "output_type": "stream",
     "text": [
      "['hi', 'are', 'you', 'hello']\n"
     ]
    }
   ],
   "source": [
    "#45. Find all unique words in a string.\n",
    "in_str=input(\"Enter a string\")# input String\n",
    "#split string and cast list to set to remove all duplicate element\n",
    "unique_word=list(set(in_str.split()))\n",
    "#print\n",
    "print(unique_word)"
   ]
  },
  {
   "cell_type": "code",
   "execution_count": 25,
   "id": "78d5c00a-99b7-4811-af2e-f855622f9af0",
   "metadata": {},
   "outputs": [
    {
     "name": "stdin",
     "output_type": "stream",
     "text": [
      "Enter a Word book\n"
     ]
    },
    {
     "name": "stdout",
     "output_type": "stream",
     "text": [
      "2\n"
     ]
    }
   ],
   "source": [
    "#46. Count the number of syllables in a string.\n",
    "# defining the function\n",
    "def countSyllable(str1):\n",
    "    s_count=0\n",
    "    for ch in str1:\n",
    "        if ch in \"aeiouAEIOU\": # check char is syllables or not\n",
    "            s_count+=1\n",
    "    return s_count\n",
    "in_str=input(\"Enter a Word\") # input a word\n",
    "#call the function\n",
    "print(countSyllable(in_str))"
   ]
  },
  {
   "cell_type": "code",
   "execution_count": 35,
   "id": "e13a1b79-0bb5-4e7f-b737-ba35f3b9d8e0",
   "metadata": {},
   "outputs": [
    {
     "name": "stdin",
     "output_type": "stream",
     "text": [
      "Enter a Word @qwerty\n"
     ]
    },
    {
     "name": "stdout",
     "output_type": "stream",
     "text": [
      "True\n"
     ]
    }
   ],
   "source": [
    "#47. Check if a string contains any special characters.\n",
    "# def a Function\n",
    "import string # import String Module to use punctuation\n",
    "def chechSpecialChar(str1):\n",
    "    result=False\n",
    "    for ch in str1:\n",
    "        if ch in string.punctuation:\n",
    "            result =True\n",
    "            break\n",
    "    return result\n",
    "in_str=input(\"Enter a Word\") # input a word\n",
    "#call the function\n",
    "print(chechSpecialChar(in_str))     "
   ]
  },
  {
   "cell_type": "code",
   "execution_count": 36,
   "id": "7097a86c-c10d-470e-bed2-aa9f4091401e",
   "metadata": {},
   "outputs": [
    {
     "name": "stdin",
     "output_type": "stream",
     "text": [
      "Enter A sentance hello students how are you\n",
      "Enter nth No. 3\n"
     ]
    },
    {
     "name": "stdout",
     "output_type": "stream",
     "text": [
      "hello students are you\n"
     ]
    }
   ],
   "source": [
    "#48. Remove the nth word from a string.\n",
    "#defing a function\n",
    "def removeNword(str1,n):\n",
    "    word_list=str1.split()#spliting the string to list\n",
    "    word_list.pop(n-1)# removing nth element from the list or string\n",
    "    return \" \".join(word_list)# recreate the new string afrter removing nth word\n",
    "in_str=input(\"Enter A sentance\")#input string\n",
    "n=int(input(\"Enter nth No.\"))\n",
    "#call the function\n",
    "print(removeNword(in_str,n))"
   ]
  },
  {
   "cell_type": "code",
   "execution_count": 4,
   "id": "37f5f1b7-97ea-47eb-9573-b3f1905fd865",
   "metadata": {},
   "outputs": [
    {
     "name": "stdin",
     "output_type": "stream",
     "text": [
      "Enter A sentance Hello Students How are You\n",
      "Enter nth No. 6\n",
      "enter New word ?\n"
     ]
    },
    {
     "name": "stdout",
     "output_type": "stream",
     "text": [
      "Hello Students How are You ?\n"
     ]
    }
   ],
   "source": [
    "#49. Insert a word at the nth position in a string.\n",
    "def insertTon(str1,n,word):\n",
    "    word_list=str1.split()#spliting the string and create list\n",
    "    word_list.insert(n-1,word)# add nth element from the list or string\n",
    "    return \" \".join(word_list)# recreate the new string afrter add word to  nth position\n",
    "in_str=input(\"Enter A sentance\")#input string\n",
    "n=int(input(\"Enter nth No.\"))\n",
    "word=input(\"enter New word\")\n",
    "#call the function\n",
    "print(insertTon(in_str,n,word))"
   ]
  },
  {
   "cell_type": "code",
   "execution_count": null,
   "id": "0bfebf67-0a67-41c9-b6fd-4cf6febb672b",
   "metadata": {},
   "outputs": [],
   "source": [
    "#50. Convert a CSV string to a list of lists.\n",
    "csv_str=input(\"Enter A csv String\")\n",
    "str_list=[list(word) for word in csv]\n",
    "print(str_list)"
   ]
  },
  {
   "cell_type": "raw",
   "id": "c6b0f59e-2d9d-4298-9935-d1a623b62fd2",
   "metadata": {},
   "source": [
    "#List Based Practice Problem :"
   ]
  },
  {
   "cell_type": "code",
   "execution_count": 1,
   "id": "cbaecc93-6622-4894-b868-d4190717d73b",
   "metadata": {},
   "outputs": [
    {
     "name": "stdout",
     "output_type": "stream",
     "text": [
      "[1, 2, 3, 4, 5, 6, 7, 8, 9, 10]\n"
     ]
    }
   ],
   "source": [
    "#1. Create a list with integers from 1 to 10.\n",
    "no_list=list(range(1,11))\n",
    "print(no_list)"
   ]
  },
  {
   "cell_type": "code",
   "execution_count": 4,
   "id": "913589ee-4e14-4f6c-8a2d-aec969e30fff",
   "metadata": {},
   "outputs": [
    {
     "name": "stdin",
     "output_type": "stream",
     "text": [
      "Enter a list ['l',8,9,0]\n"
     ]
    },
    {
     "name": "stdout",
     "output_type": "stream",
     "text": [
      "Total Item: 4\n"
     ]
    }
   ],
   "source": [
    "#2. Find the length of a list without using the `len()` function.\n",
    "l=eval(input(\"Enter a list\"))\n",
    "# use for loop\n",
    "count=0\n",
    "for i in l:\n",
    "    count+=1\n",
    "print(\"Total Item:\",count)"
   ]
  },
  {
   "cell_type": "code",
   "execution_count": 5,
   "id": "f200d09e-d9ec-4ed8-b71c-84186d6e9a39",
   "metadata": {},
   "outputs": [
    {
     "name": "stdin",
     "output_type": "stream",
     "text": [
      "Enter a list [7,8,9,0]\n",
      "Enter list item 76\n"
     ]
    },
    {
     "name": "stdout",
     "output_type": "stream",
     "text": [
      "[7, 8, 9, 0, 76]\n"
     ]
    }
   ],
   "source": [
    "#3. Append an element to the end of a list.\n",
    "l=eval(input(\"Enter a list\"))\n",
    "item=eval(input(\"Enter list item\"))\n",
    "#append item in a list using append method\n",
    "l.append(item)\n",
    "print(l)"
   ]
  },
  {
   "cell_type": "code",
   "execution_count": null,
   "id": "8f1dfd4f-bf59-408d-9e12-4ac11a97b561",
   "metadata": {},
   "outputs": [],
   "source": [
    "#4. Insert an element at a specific index in a list.\n",
    "l=eval(input(\"Enter a list\"))\n",
    "item=eval(input(\"Enter list item\"))\n",
    "index=int(input(\"Enter Item Index\"))#input index of new item\n",
    "l.insert(index,item)# insert item in specific index\n",
    "print(l)"
   ]
  },
  {
   "cell_type": "code",
   "execution_count": 6,
   "id": "ad697df3-aa93-4ce2-af1f-eebc5c59e25c",
   "metadata": {},
   "outputs": [
    {
     "name": "stdin",
     "output_type": "stream",
     "text": [
      "Enter a list [6,7,8,9,8,7,6]\n",
      "Enter item 7\n"
     ]
    },
    {
     "name": "stdout",
     "output_type": "stream",
     "text": [
      "[6, 8, 9, 8, 7, 6]\n"
     ]
    }
   ],
   "source": [
    "#5. Remove an element from a list by its value.\n",
    "l=eval(input(\"Enter a list\"))\n",
    "item=eval(input(\"Enter item\"))\n",
    "#remove specific item from the list\n",
    "l.remove(item) # this method remove the item from first occurence\n",
    "print(l)# show list after item removing"
   ]
  },
  {
   "cell_type": "code",
   "execution_count": 7,
   "id": "3aa627a9-103e-4115-84b2-1fa59fce5500",
   "metadata": {},
   "outputs": [
    {
     "name": "stdin",
     "output_type": "stream",
     "text": [
      "Enter a list [6,7,8,9,8,7,6]\n",
      "Enter Item Index 2\n"
     ]
    },
    {
     "name": "stdout",
     "output_type": "stream",
     "text": [
      "[6, 7, 9, 8, 7, 6]\n"
     ]
    }
   ],
   "source": [
    "#6. Remove an element from a list by its index.\n",
    "l=eval(input(\"Enter a list\"))\n",
    "index=int(input(\"Enter Item Index\"))#input index of removeing item\n",
    "l.pop(index)# remove Item\n",
    "print(l)# show list after item removing"
   ]
  },
  {
   "cell_type": "code",
   "execution_count": 8,
   "id": "cef083e6-c0cb-44b7-a48f-e715d6aaf608",
   "metadata": {},
   "outputs": [
    {
     "name": "stdin",
     "output_type": "stream",
     "text": [
      "Enter a list [6,7,8,9,8,7,6]\n",
      "Enter item 90\n"
     ]
    },
    {
     "name": "stdout",
     "output_type": "stream",
     "text": [
      "Item Not Available\n"
     ]
    }
   ],
   "source": [
    "#7. Check if an element exists in a list.\n",
    "l=eval(input(\"Enter a list\"))\n",
    "item=eval(input(\"Enter item\"))\n",
    "if item in l:\n",
    "    print(\"Item Available\")\n",
    "else:\n",
    "    print(\"Item Not Available\")"
   ]
  },
  {
   "cell_type": "code",
   "execution_count": 11,
   "id": "e434a55c-d87b-4f6f-87f9-d96b23836282",
   "metadata": {},
   "outputs": [
    {
     "name": "stdin",
     "output_type": "stream",
     "text": [
      "Enter a list [6,7,8,9,8,7,6]\n",
      "Enter item 8\n"
     ]
    },
    {
     "name": "stdout",
     "output_type": "stream",
     "text": [
      "index of the first occurrence of 8 in a list: 2\n"
     ]
    }
   ],
   "source": [
    "#8. Find the index of the first occurrence of an element in a list.\n",
    "l=eval(input(\"Enter a list\"))\n",
    "item=eval(input(\"Enter item\"))\n",
    "index=l.index(item)# return index of given item\n",
    "print(\"index of the first occurrence of \"+str(item)+\" in a list:\",index)"
   ]
  },
  {
   "cell_type": "code",
   "execution_count": 12,
   "id": "1fccdccd-a2c9-4ee3-8468-0187f1f82cb1",
   "metadata": {},
   "outputs": [
    {
     "name": "stdin",
     "output_type": "stream",
     "text": [
      "Enter a list [6,7,8,9,8,7,6]\n"
     ]
    },
    {
     "name": "stdout",
     "output_type": "stream",
     "text": [
      "{6: 2, 7: 2, 8: 2, 9: 1}\n"
     ]
    }
   ],
   "source": [
    "#9. Count the occurrences of an element in a list.\n",
    "l=eval(input(\"Enter a list\"))\n",
    "freq_dict={} #create empty dict to store each item frequency along with item as key\n",
    "for item in l:\n",
    "    freq_dict[item]=l.count(item)\n",
    "print(freq_dict)"
   ]
  },
  {
   "cell_type": "code",
   "execution_count": 16,
   "id": "52637b2a-4764-4f16-8058-e774f2b3eb9a",
   "metadata": {},
   "outputs": [
    {
     "name": "stdin",
     "output_type": "stream",
     "text": [
      "Enter a list [9,5,7,8]\n"
     ]
    },
    {
     "name": "stdout",
     "output_type": "stream",
     "text": [
      "[8, 7, 5, 9]\n"
     ]
    }
   ],
   "source": [
    "#10. Reverse the order of elements in a list.\n",
    "l=eval(input(\"Enter a list\"))\n",
    "# reverse the list item\n",
    "l.reverse()\n",
    "print(l)"
   ]
  },
  {
   "cell_type": "code",
   "execution_count": 17,
   "id": "1539d123-3f8d-48bb-967e-937ef898246c",
   "metadata": {},
   "outputs": [
    {
     "name": "stdout",
     "output_type": "stream",
     "text": [
      "[5, 8, 9, 34, 65, 87, 90]\n"
     ]
    }
   ],
   "source": [
    "#11. Sort a list in ascending order.\n",
    "l=[8,9,5,90,34,65,87]\n",
    "l.sort() # sort the list \n",
    "print(l)"
   ]
  },
  {
   "cell_type": "code",
   "execution_count": 18,
   "id": "feec5b32-4f4d-415d-81bd-6c1d65dbdbd4",
   "metadata": {},
   "outputs": [
    {
     "name": "stdout",
     "output_type": "stream",
     "text": [
      "[90, 87, 65, 34, 9, 8, 5]\n"
     ]
    }
   ],
   "source": [
    "#12. Sort a list in descending order.\n",
    "l=[8,9,5,90,34,65,87]\n",
    "l.sort(reverse=True) # sort the list \n",
    "print(l)"
   ]
  },
  {
   "cell_type": "code",
   "execution_count": 19,
   "id": "69519261-6a92-4141-85bd-dccf0f5d2b8b",
   "metadata": {},
   "outputs": [
    {
     "name": "stdout",
     "output_type": "stream",
     "text": [
      "[2, 4, 6, 8, 10, 12, 14, 16, 18, 20]\n"
     ]
    }
   ],
   "source": [
    "#13. Create a list of even numbers from 1 to 20.\n",
    "l=[x for x in range(2,21,2)]# create even no list\n",
    "print(l)"
   ]
  },
  {
   "cell_type": "code",
   "execution_count": 20,
   "id": "25cdd571-6e93-4894-8234-1069bccf13a8",
   "metadata": {},
   "outputs": [
    {
     "name": "stdout",
     "output_type": "stream",
     "text": [
      "[1, 3, 5, 7, 9, 11, 13, 15, 17, 19]\n"
     ]
    }
   ],
   "source": [
    "#14. Create a list of odd numbers from 1 to 20.\n",
    "l=[x for x in range(1,20,2)]# create odd no list\n",
    "print(l)"
   ]
  },
  {
   "cell_type": "code",
   "execution_count": 21,
   "id": "dbb0aa24-c872-4e28-bfee-d9f8ee660514",
   "metadata": {},
   "outputs": [
    {
     "name": "stdout",
     "output_type": "stream",
     "text": [
      "298\n"
     ]
    }
   ],
   "source": [
    "#15. Find the sum of all elements in a list.\n",
    "l=[8,9,5,90,34,65,87]\n",
    "#sum of list item\n",
    "list_sum=sum(l)\n",
    "print(list_sum)"
   ]
  },
  {
   "cell_type": "code",
   "execution_count": 22,
   "id": "b6914039-c4e9-41be-a8bf-8d1d335896b3",
   "metadata": {},
   "outputs": [
    {
     "name": "stdout",
     "output_type": "stream",
     "text": [
      "Maximum Value In given List Is : 90\n"
     ]
    }
   ],
   "source": [
    "#16. Find the maximum value in a list.\n",
    "l=[8,9,5,90,34,65,87]\n",
    "list_max_value=max(l)\n",
    "print(\"Maximum Value In given List Is :\",list_max_value)"
   ]
  },
  {
   "cell_type": "code",
   "execution_count": 23,
   "id": "327c40fd-4507-4a30-ac92-1c965dbfe61c",
   "metadata": {},
   "outputs": [
    {
     "name": "stdout",
     "output_type": "stream",
     "text": [
      "Minimum Value In given List Is : 90\n"
     ]
    }
   ],
   "source": [
    "#17. Find the minimum value in a list.\n",
    "l=[8,9,5,90,34,65,87]\n",
    "list_min_value=max(l)\n",
    "print(\"Minimum Value In given List Is :\",list_min_value)"
   ]
  },
  {
   "cell_type": "code",
   "execution_count": 24,
   "id": "a9a76cf6-a4a9-40a8-8749-0cd24da2608f",
   "metadata": {},
   "outputs": [
    {
     "name": "stdout",
     "output_type": "stream",
     "text": [
      "[1, 4, 9, 16, 25, 36, 49, 64, 81, 100]\n"
     ]
    }
   ],
   "source": [
    "#18. Create a list of squares of numbers from 1 to 10.\n",
    "squre_list=[x**2 for x in range(1,11) ] #create Squre list\n",
    "print(squre_list)"
   ]
  },
  {
   "cell_type": "code",
   "execution_count": 28,
   "id": "ef2fafa9-18a7-4fa5-a669-03e5309704fd",
   "metadata": {},
   "outputs": [
    {
     "name": "stdout",
     "output_type": "stream",
     "text": [
      "[21, 38, 23, 8, 4, 19, 15, 35, 13, 5, 3, 49, 45, 48, 43]\n"
     ]
    }
   ],
   "source": [
    "#19. Create a list of random numbers.\n",
    "import random # import random module\n",
    "random_list=[x for x in random.sample(range(1,50),15)] # genrate 15 items random no list\n",
    "print(random_list)"
   ]
  },
  {
   "cell_type": "code",
   "execution_count": 29,
   "id": "1073b932-9a75-410f-85ea-6b268a199f9c",
   "metadata": {},
   "outputs": [
    {
     "name": "stdout",
     "output_type": "stream",
     "text": [
      "[65, 34, 5, 8, 9, 87, 90]\n"
     ]
    }
   ],
   "source": [
    "#20. Remove duplicates from a list.\n",
    "l=[8,9,5,90,34,65,87]\n",
    "#remove all duplicate\n",
    "# typecast list to set after that type cast set to list to get list of unique Items\n",
    "unique_list=list(set(l))\n",
    "print(unique_list)"
   ]
  },
  {
   "cell_type": "code",
   "execution_count": 31,
   "id": "e3940af3-34a8-454a-9a67-752d0aa6af8c",
   "metadata": {},
   "outputs": [
    {
     "name": "stdout",
     "output_type": "stream",
     "text": [
      "common elements between two lists : [9, 90]\n"
     ]
    }
   ],
   "source": [
    "#21. Find the common elements between two lists.\n",
    "l=[8,9,5,90,34,65,87]\n",
    "b=[9,3,67,90]\n",
    "# find Common elements from the list\n",
    "#Typecast list to set\n",
    "l=set(l)\n",
    "b=set(b)\n",
    "common_element=list(l.intersection(b))# find the intersection of set and typcast to list \n",
    "print(\"common elements between two lists :\",common_element)"
   ]
  },
  {
   "cell_type": "code",
   "execution_count": 33,
   "id": "c1a6713c-cc41-4a99-9361-1d3c74ecf68e",
   "metadata": {},
   "outputs": [
    {
     "name": "stdout",
     "output_type": "stream",
     "text": [
      "common elements between two lists : [65, 34, 5, 8, 87]\n"
     ]
    }
   ],
   "source": [
    "#22. Find the difference between two lists.\n",
    "l=[8,9,5,90,34,65,87]\n",
    "b=[9,3,67,90]\n",
    "#Typecast list to set\n",
    "l=set(l)\n",
    "b=set(b)\n",
    "list_diff=list(l-b)# diffrence  of set and typcast to list \n",
    "print(\"common elements between two lists :\",list_diff)"
   ]
  },
  {
   "cell_type": "code",
   "execution_count": 34,
   "id": "bd33d904-eaf1-4383-921b-1554fcb907b8",
   "metadata": {},
   "outputs": [
    {
     "name": "stdout",
     "output_type": "stream",
     "text": [
      "After Merging Two List : [8, 9, 5, 90, 34, 65, 87, 9, 3, 67, 90]\n"
     ]
    }
   ],
   "source": [
    "#23. Merge two lists.\n",
    "l=[8,9,5,90,34,65,87]\n",
    "b=[9,3,67,90]\n",
    "#merge list\n",
    "l.extend(b)\n",
    "print(\"After Merging Two List :\",l)"
   ]
  },
  {
   "cell_type": "code",
   "execution_count": 36,
   "id": "6c77dbfa-daa2-418a-9923-287c44a0b161",
   "metadata": {},
   "outputs": [
    {
     "name": "stdout",
     "output_type": "stream",
     "text": [
      "List After Multuply By 2 : [16, 18, 10, 180, 68, 130, 174]\n"
     ]
    }
   ],
   "source": [
    "#24. Multiply all elements in a list by 2.\n",
    "l=[8,9,5,90,34,65,87]\n",
    "#multyply list by 2\n",
    "l=[2*x for x in l]\n",
    "print(\"List After Multuply By 2 :\",l)"
   ]
  },
  {
   "cell_type": "code",
   "execution_count": 38,
   "id": "96963c9f-2a25-4600-8d1e-5bef2663563a",
   "metadata": {},
   "outputs": [
    {
     "name": "stdout",
     "output_type": "stream",
     "text": [
      "List of Even No: [8, 90, 34]\n"
     ]
    }
   ],
   "source": [
    "#25. Filter out all even numbers from a list.\n",
    "l=[8,9,5,90,34,65,87]\n",
    "even_list=[x for x in l if x%2==0]\n",
    "print(\"List of Even No:\",even_list)"
   ]
  },
  {
   "cell_type": "code",
   "execution_count": 40,
   "id": "0ba81b76-d579-4f61-8dbb-68ba3e0a1490",
   "metadata": {},
   "outputs": [
    {
     "name": "stdout",
     "output_type": "stream",
     "text": [
      "[1, 34, 65, 89, 54]\n"
     ]
    }
   ],
   "source": [
    "#26. Convert a list of strings to a list of integers.\n",
    "str_list=['1','34','65','89','54']\n",
    "no_list=[int(x) for x in str_list]# converting list to integers\n",
    "print(no_list)"
   ]
  },
  {
   "cell_type": "code",
   "execution_count": 41,
   "id": "1b773461-3d13-4c63-b513-d94f1399b119",
   "metadata": {},
   "outputs": [
    {
     "name": "stdout",
     "output_type": "stream",
     "text": [
      "['1', '34', '65', '89', '54']\n"
     ]
    }
   ],
   "source": [
    "#27. Convert a list of integers to a list of strings.\n",
    "no_list=[1, 34, 65, 89, 54]\n",
    "str_list=[str(x) for x in str_list]# converting  integer list to string list\n",
    "print(str_list)"
   ]
  },
  {
   "cell_type": "code",
   "execution_count": 42,
   "id": "ddb40b32-500d-4d64-9be1-630fb10c9545",
   "metadata": {},
   "outputs": [
    {
     "name": "stdout",
     "output_type": "stream",
     "text": [
      "[1, 2, 34, 45, 76, 8]\n"
     ]
    }
   ],
   "source": [
    "#28. Flatten a nested list.\n",
    "nested_list=[[1,2,34,],[45,76,8]]\n",
    "flat_list=[item for l in nested_list for item in l]\n",
    "print(flat_list)"
   ]
  },
  {
   "cell_type": "code",
   "execution_count": 43,
   "id": "33822d07-9c22-4cfe-8ceb-8dfffb790923",
   "metadata": {},
   "outputs": [
    {
     "name": "stdout",
     "output_type": "stream",
     "text": [
      "First 10 Fibonacci numbers:\n",
      "[0, 1, 1, 2, 3, 5, 8, 13, 21, 34, 55]\n"
     ]
    }
   ],
   "source": [
    "#29. Create a list of the first 10 Fibonacci numbers.\n",
    "def fibonacci_nums(n):\n",
    "  if n <= 0:\n",
    "    return [0]\n",
    "  sequence = [0, 1]\n",
    "  while len(sequence) <= n:\n",
    "    next_value = sequence[len(sequence) - 1] + sequence[len(sequence) - 2]\n",
    "    sequence.append(next_value)\n",
    "  return sequence\n",
    "print(\"First 10 Fibonacci numbers:\")\n",
    "print(fibonacci_nums(10))"
   ]
  },
  {
   "cell_type": "code",
   "execution_count": 45,
   "id": "add5764b-5998-456b-93eb-5c2e272e68b2",
   "metadata": {},
   "outputs": [
    {
     "name": "stdout",
     "output_type": "stream",
     "text": [
      "List Is Sorted\n"
     ]
    }
   ],
   "source": [
    "#30. Check if a list is sorted.\n",
    "#define a function\n",
    "# note :  this code work s only if list is sorted in Asscending order\n",
    "def isSorted(l):\n",
    "    if l==sorted(l):\n",
    "        return True\n",
    "    else:\n",
    "        return False\n",
    "l=[1,2,3,4,5,6]\n",
    "# call the function\n",
    "if isSorted(l):\n",
    "    print(\"List Is Sorted\")\n",
    "else:\n",
    "    print(\"List is Not Sorted\")\n",
    "    "
   ]
  },
  {
   "cell_type": "code",
   "execution_count": 5,
   "id": "0e64f6a3-235d-44c6-a153-d152ece12788",
   "metadata": {},
   "outputs": [
    {
     "name": "stdout",
     "output_type": "stream",
     "text": [
      "Orignal List [1, 2, 3, 4, 5, 6, 7, 8, 9, 10]\n"
     ]
    },
    {
     "name": "stdin",
     "output_type": "stream",
     "text": [
      "Enter Position 3\n"
     ]
    },
    {
     "name": "stdout",
     "output_type": "stream",
     "text": [
      "List After left Rotation [4, 5, 6, 7, 8, 9, 10, 1, 2, 3]\n"
     ]
    }
   ],
   "source": [
    "#31. Rotate a list to the left by `n` positions.\n",
    "l=[1,2,3,4,5,6,7,8,9,10]\n",
    "print('Orignal List',l)\n",
    "n=int(input(\"Enter Position\"))\n",
    "rotate_list=l[n:]+l[:n]\n",
    "print(\"List After left Rotation\",rotate_list)"
   ]
  },
  {
   "cell_type": "code",
   "execution_count": 4,
   "id": "ef456d3d-42d8-4dd3-9274-adcbb03e7e04",
   "metadata": {},
   "outputs": [
    {
     "name": "stdout",
     "output_type": "stream",
     "text": [
      "Orignal List [1, 2, 3, 4, 5, 6, 7, 8, 9, 10]\n"
     ]
    },
    {
     "name": "stdin",
     "output_type": "stream",
     "text": [
      "Enter Position 3\n"
     ]
    },
    {
     "name": "stdout",
     "output_type": "stream",
     "text": [
      "List After left Rotation [8, 9, 10, 1, 2, 3, 4, 5, 6, 7]\n"
     ]
    }
   ],
   "source": [
    "#32. Rotate a list to the right by `n` positions.\n",
    "l=[1,2,3,4,5,6,7,8,9,10]\n",
    "print('Orignal List',l)\n",
    "n=int(input(\"Enter Position\"))\n",
    "rotate_list=l[-n:]+l[:-n]\n",
    "print(\"List After left Rotation\",rotate_list)"
   ]
  },
  {
   "cell_type": "code",
   "execution_count": 53,
   "id": "137341ac-d8f4-4e24-9090-d2dba92d0c15",
   "metadata": {},
   "outputs": [
    {
     "name": "stdout",
     "output_type": "stream",
     "text": [
      "[2, 3, 5, 7, 11, 13, 17, 19, 23, 29, 31, 37, 41, 43, 47]\n"
     ]
    }
   ],
   "source": [
    "#33. Create a list of prime numbers up to 50.\n",
    "prime_list=[x for x in range(2, 50) if all(x % y for y in range(2, (x//2)+1))]\n",
    "print(prime_list)"
   ]
  },
  {
   "cell_type": "code",
   "execution_count": 8,
   "id": "f3991cfd-aefa-4bbb-bd77-8e897f00f3f1",
   "metadata": {},
   "outputs": [
    {
     "name": "stdout",
     "output_type": "stream",
     "text": [
      "[[1, 2, 3], [4, 5, 6], [7, 8, 9], [10]]\n"
     ]
    }
   ],
   "source": [
    "#34. Split a list into chunks of size `n`.\n",
    "def chunks(lst, n):\n",
    "    \"\"\"Yield successive n-sized chunks from lst.\"\"\"\n",
    "    for i in range(0, len(lst), n):\n",
    "        yield lst[i:i + n]\n",
    "lst=[1,2,3,4,5,6,7,8,9,10]\n",
    "#calling genrator function\n",
    "print(list(chunks(lst,3)))"
   ]
  },
  {
   "cell_type": "code",
   "execution_count": 57,
   "id": "1e4ff080-9e10-4b45-b32f-6ae4c4b9533d",
   "metadata": {},
   "outputs": [
    {
     "name": "stdout",
     "output_type": "stream",
     "text": [
      "Second Largest Numcer In List: 87\n"
     ]
    }
   ],
   "source": [
    "#35. Find the second largest number in a list.\n",
    "l=[8,9,5,90,34,65,87]\n",
    "s_l_no=sorted(l)[-2] # sort the list \n",
    "print(\"Second Largest Numcer In List:\",s_l_no)"
   ]
  },
  {
   "cell_type": "code",
   "execution_count": 3,
   "id": "7e598b0e-ed05-4407-9e61-dbc80d96c870",
   "metadata": {},
   "outputs": [
    {
     "name": "stdout",
     "output_type": "stream",
     "text": [
      "Original List: [8, 9, 5, 90, 34, 65, 87]\n",
      "Squre List: [64, 81, 25, 8100, 1156, 4225, 7569]\n"
     ]
    }
   ],
   "source": [
    "#36. Replace every element in a list with its square.\n",
    "l=[8,9,5,90,34,65,87]\n",
    "print(\"Original List:\",l)\n",
    "l=[x**2 for x in l]\n",
    "print(\"Squre List:\",l)"
   ]
  },
  {
   "cell_type": "code",
   "execution_count": 9,
   "id": "d564e17b-6083-4c3e-8cf1-277ed2853b9e",
   "metadata": {},
   "outputs": [
    {
     "name": "stdout",
     "output_type": "stream",
     "text": [
      "{1: 0, 2: 1, 3: 2, 4: 3, 5: 4, 6: 5, 7: 6, 8: 7, 9: 8, 10: 9}\n"
     ]
    }
   ],
   "source": [
    "#37. Convert a list to a dictionary where list elements become keys and their indices become values.\n",
    "l=[1,2,3,4,5,6,7,8,9,10]# create a list\n",
    "#conver to dictionary\n",
    "d={l[i]:i for i in range(len(l))}\n",
    "print(d)"
   ]
  },
  {
   "cell_type": "code",
   "execution_count": null,
   "id": "8e32d9ff-2520-4bb3-a385-3b6b387d0ece",
   "metadata": {},
   "outputs": [],
   "source": [
    "#38. Shuffle the elements of a list randomly."
   ]
  },
  {
   "cell_type": "code",
   "execution_count": 4,
   "id": "03e737db-869e-4937-998f-6f15a56612c1",
   "metadata": {},
   "outputs": [
    {
     "name": "stdout",
     "output_type": "stream",
     "text": [
      "First 10 Fibonacci numbers:\n",
      "[0, 1, 1, 2, 3, 5, 8, 13, 21, 34, 55]\n"
     ]
    }
   ],
   "source": [
    "#39. Create a list of the first 10 factorial numbers.\n",
    "def fibonacci_nums(n):\n",
    "  if n <= 0:\n",
    "    return [0]\n",
    "  sequence = [0, 1]\n",
    "  while len(sequence) <= n:\n",
    "    next_value = sequence[len(sequence) - 1] + sequence[len(sequence) - 2]\n",
    "    sequence.append(next_value)\n",
    "  return sequence\n",
    "print(\"First 10 Fibonacci numbers:\")\n",
    "print(fibonacci_nums(10))"
   ]
  },
  {
   "cell_type": "code",
   "execution_count": 12,
   "id": "1d699d4a-f894-4eb2-8763-1ecafc1cf18c",
   "metadata": {},
   "outputs": [
    {
     "name": "stdout",
     "output_type": "stream",
     "text": [
      "[2, 4, 1, 6, 9, 3, 5, 7, 8]\n"
     ]
    }
   ],
   "source": [
    "#40. Check if two lists have at least one element in common.\n",
    "import random\n",
    "test_list=[1,2,3,4,5,6,7,8,9]\n",
    "random.shuffle(test_list)\n",
    "print(test_list)"
   ]
  },
  {
   "cell_type": "code",
   "execution_count": 5,
   "id": "61c7bc0a-44f8-49c6-8074-14af4570c2f1",
   "metadata": {},
   "outputs": [
    {
     "name": "stdout",
     "output_type": "stream",
     "text": [
      "[]\n"
     ]
    }
   ],
   "source": [
    "#41. Remove all elements from a list.\n",
    "l=[8,9,5,90,34,65,87]\n",
    "l.clear() # removing all elements from the list\n",
    "print(l)"
   ]
  },
  {
   "cell_type": "code",
   "execution_count": 8,
   "id": "4fcca2cd-1dc7-4694-b4cf-a490deb47370",
   "metadata": {},
   "outputs": [
    {
     "name": "stdout",
     "output_type": "stream",
     "text": [
      "[8, 9, 5, 90, 34, 65, 87, 0, 0]\n"
     ]
    }
   ],
   "source": [
    "#42. Replace negative numbers in a list with 0.\n",
    "l=[8,9,5,90,34,65,87,-56,-6]\n",
    "l=[x if x>=0 else 0 for x in l ] #replace the negative number by zero\n",
    "print(l)"
   ]
  },
  {
   "cell_type": "code",
   "execution_count": 10,
   "id": "93a3be97-a2ec-4f4f-a561-025f731775d6",
   "metadata": {},
   "outputs": [
    {
     "name": "stdout",
     "output_type": "stream",
     "text": [
      "Word List: ['Hello', 'Students!', 'How', 'Are', 'You?']\n"
     ]
    }
   ],
   "source": [
    "#43. Convert a string into a list of words.\n",
    "instr=\"Hello Students! How Are You?\"\n",
    "# create list of word by spliting the string\n",
    "word_list=instr.split()\n",
    "print(\"Word List:\",word_list)"
   ]
  },
  {
   "cell_type": "code",
   "execution_count": 1,
   "id": "35827f2a-1b3c-4916-92b6-43808b1c9c52",
   "metadata": {},
   "outputs": [
    {
     "name": "stdout",
     "output_type": "stream",
     "text": [
      "Sentence After joining All Word: Hello Students! How Are You?\n"
     ]
    }
   ],
   "source": [
    "#44. Convert a list of words into a string.\n",
    "in_list=['Hello', 'Students!', 'How', 'Are', 'You?']\n",
    "# join the list to make a sentence\n",
    "out_str=\" \".join(in_list)\n",
    "print(\"Sentence After joining All Word:\",out_str)"
   ]
  },
  {
   "cell_type": "code",
   "execution_count": 2,
   "id": "af224122-45a1-4ede-b6fb-303d5116dfe0",
   "metadata": {},
   "outputs": [
    {
     "name": "stdin",
     "output_type": "stream",
     "text": [
      "Enter A Number 10\n"
     ]
    },
    {
     "name": "stdout",
     "output_type": "stream",
     "text": [
      "[2, 4, 8, 16, 32, 64, 128, 256, 512, 1024]\n"
     ]
    }
   ],
   "source": [
    "#45. Create a list of the first `n` powers of 2.\n",
    "n=int(input(\"Enter A Number\"))\n",
    "power_list=[2**x for x in range(1,n+1)]# genrate list power of 2\n",
    "print(power_list)"
   ]
  },
  {
   "cell_type": "code",
   "execution_count": 3,
   "id": "8f8a32a5-75a5-4889-ac8c-4e0386d18bde",
   "metadata": {},
   "outputs": [
    {
     "name": "stdout",
     "output_type": "stream",
     "text": [
      "Longest String: Students!\n"
     ]
    }
   ],
   "source": [
    "#46. Find the longest string in a list of strings.\n",
    "in_list=['Hello', 'Students!', 'How', 'Are', 'You?']\n",
    "long_word=''\n",
    "for word in in_list:\n",
    "    if len(long_word)<=len(word):#compare the word\n",
    "        long_word=word\n",
    "print(\"Longest String:\",long_word) #Note: Tis code find Last Longest word from the List"
   ]
  },
  {
   "cell_type": "code",
   "execution_count": 5,
   "id": "18adadcd-a117-4472-b3a0-73950f279470",
   "metadata": {},
   "outputs": [
    {
     "name": "stdout",
     "output_type": "stream",
     "text": [
      "Shortest String: Are\n"
     ]
    }
   ],
   "source": [
    "#47. Find the shortest string in a list of strings.\n",
    "in_list=['Hello', 'Students!', 'How', 'Are', 'You?']\n",
    "short_word=in_list[0] # Suppose that zero index element  have minimum char\n",
    "for word in in_list:\n",
    "    if len(short_word)>=len(word):#compare the word\n",
    "        short_word=word\n",
    "print(\"Shortest String:\",short_word) #Note: This code find Last shortest word from the List"
   ]
  },
  {
   "cell_type": "code",
   "execution_count": 6,
   "id": "65ba8157-fd4d-4f4b-aed6-b57c1b6dd992",
   "metadata": {},
   "outputs": [
    {
     "name": "stdin",
     "output_type": "stream",
     "text": [
      "Enter A number 15\n"
     ]
    },
    {
     "name": "stdout",
     "output_type": "stream",
     "text": [
      "[1, 3, 6, 10, 15, 21, 28, 36, 45, 55, 66, 78, 91, 105, 120]\n"
     ]
    }
   ],
   "source": [
    "#48. Create a list of the first `n` triangular numbers\n",
    "n=int(input(\"Enter A number\"))\n",
    "triangular_list=[1]\n",
    "for i in range(2,n+1):\n",
    "    triangular_list.append(triangular_list[-1]+i)\n",
    "print(triangular_list)"
   ]
  },
  {
   "cell_type": "code",
   "execution_count": 108,
   "id": "f1495581-10a0-4a12-8411-47fc3049c668",
   "metadata": {},
   "outputs": [
    {
     "name": "stdout",
     "output_type": "stream",
     "text": [
      "List Contains Another List As A Subsequence\n"
     ]
    }
   ],
   "source": [
    "#49. Check if a list contains another list as a subsequence.\n",
    "test_list=[1,2,'a',8,[8,9],9,0]\n",
    "for item in test_list:\n",
    "    if type(item)==list:\n",
    "        print('list contains another list as a subsequence'.title())\n",
    "        break\n",
    "else:\n",
    "    print('list not contains another list as a subsequence'.title())"
   ]
  },
  {
   "cell_type": "code",
   "execution_count": 13,
   "id": "3392feaf-4b6e-43b7-8c76-dcc217f9b5bb",
   "metadata": {},
   "outputs": [
    {
     "name": "stdout",
     "output_type": "stream",
     "text": [
      "List Before Swaping [1, 2, 3, 4, 5, 6, 7, 8, 9, 10]\n",
      "List After swaping: [1, 2, 5, 4, 3, 6, 7, 8, 9, 10]\n"
     ]
    }
   ],
   "source": [
    "#50. Swap two elements in a list by their indices.\n",
    "test_list=[1,2,3,4,5,6,7,8,9]\n",
    "f_ind=4\n",
    "s_ind=2\n",
    "#swap element\n",
    "print('List Before Swaping',l)\n",
    "l[f_ind],l[s_ind]=l[s_ind],l[f_ind]\n",
    "print(\"List After swaping:\",l)"
   ]
  },
  {
   "cell_type": "code",
   "execution_count": null,
   "id": "d82cebc2-6ae8-452e-9bae-b7e725eee8bd",
   "metadata": {},
   "outputs": [],
   "source": [
    "####### Tuple Based Question  ########################"
   ]
  },
  {
   "cell_type": "code",
   "execution_count": 15,
   "id": "deb32760-bfa4-447e-b13f-425e578911e8",
   "metadata": {},
   "outputs": [
    {
     "name": "stdout",
     "output_type": "stream",
     "text": [
      "(1, 2, 3, 4, 5)\n"
     ]
    }
   ],
   "source": [
    "#1. Create a tuple with integers from 1 to 5.\n",
    "t=tuple(range(1,6))\n",
    "print(t)"
   ]
  },
  {
   "cell_type": "code",
   "execution_count": 16,
   "id": "0cb70d61-23a4-432c-af39-cd594ecb279d",
   "metadata": {},
   "outputs": [
    {
     "name": "stdout",
     "output_type": "stream",
     "text": [
      "Tuple Third Element: 3\n"
     ]
    }
   ],
   "source": [
    "#2. Access the third element of a tuple.\n",
    "test_tuple=(1,2,3,4,5,6,7,8,9)\n",
    "#access Third Element\n",
    "th_ele=t[2]\n",
    "print('tuple third element:'.title(),th_ele)"
   ]
  },
  {
   "cell_type": "code",
   "execution_count": 17,
   "id": "a3f1f0f5-c2c7-4e6c-ad0c-6266406aace7",
   "metadata": {},
   "outputs": [
    {
     "name": "stdout",
     "output_type": "stream",
     "text": [
      "Tuple Length 9\n"
     ]
    }
   ],
   "source": [
    "#3. Find the length of a tuple without using the `len()` function.\n",
    "test_tuple=(1,2,3,4,5,6,7,8,9)\n",
    "tup_len=0# To store uple length\n",
    "for i in test_tuple:\n",
    "    tup_len+=1\n",
    "print('tuple length'.title(),tup_len)"
   ]
  },
  {
   "cell_type": "code",
   "execution_count": 18,
   "id": "6f73aefc-ccf0-4bf9-889b-c63c78d30414",
   "metadata": {},
   "outputs": [
    {
     "name": "stdout",
     "output_type": "stream",
     "text": [
      "{1: 2, 3: 3, 7: 3, 2: 1, 9: 2, 0: 1, 5: 2, 8: 3, 4: 2, 62: 1, 6: 1}\n"
     ]
    }
   ],
   "source": [
    "#4. Count the occurrences of an element in a tuple.\n",
    "freq_dict={} #create empty dict to store each item frequency along with item as key\n",
    "test_tuple=(1,1,3,7,2,9,0,7,5,8,4,3,8,62,3,4,5,6,7,8,9) #test tuple\n",
    "for item in test_tuple:\n",
    "    freq_dict[item]=test_tuple.count(item)\n",
    "print(freq_dict)"
   ]
  },
  {
   "cell_type": "code",
   "execution_count": 20,
   "id": "937854be-e534-4fbd-9fd3-1438bdaf6b1a",
   "metadata": {},
   "outputs": [
    {
     "name": "stdin",
     "output_type": "stream",
     "text": [
      "Enter Tuple Item 5\n"
     ]
    },
    {
     "name": "stdout",
     "output_type": "stream",
     "text": [
      "ITEM INDEX 8\n"
     ]
    }
   ],
   "source": [
    "#5. Find the index of the first occurrence of an element in a tuple.\n",
    "test_tuple=(1,1,3,7,2,9,0,7,5,8,4,3,8,62,3,4,5,6,7,8,9) #test tuple\n",
    "item=eval(input(\"Enter Tuple Item\"))\n",
    "item_index=test_tuple.index(item)\n",
    "print('item index'.upper(),item_index)"
   ]
  },
  {
   "cell_type": "code",
   "execution_count": 21,
   "id": "c7e966d8-ad4c-4c28-9c8b-f931335cdaf5",
   "metadata": {},
   "outputs": [
    {
     "name": "stdin",
     "output_type": "stream",
     "text": [
      "Enter Tuple Item 6\n"
     ]
    },
    {
     "name": "stdout",
     "output_type": "stream",
     "text": [
      "Item Found!\n"
     ]
    }
   ],
   "source": [
    "#v6. Check if an element exists in a tuple.\n",
    "test_tuple=(1,1,3,7,2,9,0,7,5,8,4,3,8,62,3,4,5,6,7,8,9) #test tuple\n",
    "item=eval(input(\"Enter Tuple Item\"))\n",
    "if test_tuple.count(item)>0:\n",
    "    print(\"item found!\".title())\n",
    "else:\n",
    "    print(\"Item not found\".title())"
   ]
  },
  {
   "cell_type": "code",
   "execution_count": 22,
   "id": "8b141828-bd8a-4a54-b681-1560599d52a2",
   "metadata": {},
   "outputs": [
    {
     "name": "stdout",
     "output_type": "stream",
     "text": [
      "[1, 1, 3, 7, 2, 9, 0, 7, 5, 8, 4, 3, 8, 62, 3, 4, 5, 6, 7, 8, 9]\n"
     ]
    }
   ],
   "source": [
    "#7. Convert a tuple to a list.\n",
    "test_tuple=(1,1,3,7,2,9,0,7,5,8,4,3,8,62,3,4,5,6,7,8,9) #test tuple\n",
    "#convert tuple to list\n",
    "test_list=list(test_tuple)\n",
    "print(test_list)"
   ]
  },
  {
   "cell_type": "code",
   "execution_count": 24,
   "id": "aabca272-23d2-490d-9aa1-c5f45959e2c2",
   "metadata": {},
   "outputs": [
    {
     "name": "stdout",
     "output_type": "stream",
     "text": [
      "(1, 1, 3, 7, 2, 9, 0, 7, 5, 8, 4, 3, 8, 62, 3, 4, 5, 6, 7, 8, 9)\n"
     ]
    }
   ],
   "source": [
    "#8. Convert a list to a tuple.\n",
    "test_list=[1,1,3,7,2,9,0,7,5,8,4,3,8,62,3,4,5,6,7,8,9] #test tuple\n",
    "#convert to tuple\n",
    "test_tuple=tuple(test_list)\n",
    "print(test_tuple)"
   ]
  },
  {
   "cell_type": "code",
   "execution_count": 26,
   "id": "7bd2156f-2fda-4f30-b4ed-5ee30b62db8e",
   "metadata": {},
   "outputs": [
    {
     "name": "stdout",
     "output_type": "stream",
     "text": [
      "1 2 3 4 5\n"
     ]
    }
   ],
   "source": [
    "#9. Unpack the elements of a tuple into variables.\n",
    "test_tuple=(1,2,3,4,5)\n",
    "#unpacking The Tuple\n",
    "a,b,c,d,e=test_tuple\n",
    "print(a,b,c,d,e)"
   ]
  },
  {
   "cell_type": "code",
   "execution_count": 32,
   "id": "7f156bf3-a818-43f8-9d4f-d5bbc3f7f2d5",
   "metadata": {},
   "outputs": [
    {
     "name": "stdout",
     "output_type": "stream",
     "text": [
      "(2, 4, 6, 8, 10)\n"
     ]
    }
   ],
   "source": [
    "#10. Create a tuple of even numbers from 1 to 10.\n",
    "even_tuple=tuple(x for x in range(2,11,2))\n",
    "print(even_tuple)"
   ]
  },
  {
   "cell_type": "code",
   "execution_count": 33,
   "id": "83a8e5e8-fe31-4cb9-89ba-843c77c2e547",
   "metadata": {},
   "outputs": [
    {
     "name": "stdout",
     "output_type": "stream",
     "text": [
      "(1, 3, 5, 7, 9)\n"
     ]
    }
   ],
   "source": [
    "#11. Create a tuple of odd numbers from 1 to 10.\n",
    "odd_tuple=tuple(range(1,11,2))\n",
    "print(odd_tuple)"
   ]
  },
  {
   "cell_type": "code",
   "execution_count": 36,
   "id": "b3c97ea6-3425-4f44-8ab8-1a1ef94ac119",
   "metadata": {},
   "outputs": [
    {
     "name": "stdout",
     "output_type": "stream",
     "text": [
      "Tuple After Concatenating (1, 2, 3, 4, 5, 6, 7, 8)\n"
     ]
    }
   ],
   "source": [
    "#12. Concatenate two tuples.\n",
    "test_tuple1=(1,2,3,4,5)\n",
    "test_tuple2=(6,7,8)\n",
    "#concatenating Tuple\n",
    "res_tuple=test_tuple1+test_tuple2\n",
    "print('tuple after concatenating'.title(),res_tuple)"
   ]
  },
  {
   "cell_type": "code",
   "execution_count": 37,
   "id": "30ba9637-f983-40e5-8e17-172cb003ea04",
   "metadata": {},
   "outputs": [
    {
     "name": "stdout",
     "output_type": "stream",
     "text": [
      "Tuple After 3 Times Replication (1, 2, 3, 4, 5, 1, 2, 3, 4, 5, 1, 2, 3, 4, 5)\n"
     ]
    }
   ],
   "source": [
    "#13. Repeat a tuple three times.\n",
    "test_tuple=(1,2,3,4,5)\n",
    "#repeat tuple by using replicating op\n",
    "t=test_tuple1*3\n",
    "print('tuple after 3 times replication'.title(),t)"
   ]
  },
  {
   "cell_type": "code",
   "execution_count": 39,
   "id": "ec33f9c3-4d85-4d2c-8091-ec36186246eb",
   "metadata": {},
   "outputs": [
    {
     "name": "stdout",
     "output_type": "stream",
     "text": [
      "Tuple Is Empty\n"
     ]
    }
   ],
   "source": [
    "#14. Check if a tuple is empty.\n",
    "test_tuple=()\n",
    "if len(test_tuple)==0:\n",
    "    print('tuple is empty'.title())\n",
    "else:\n",
    "    print('tuple is not empty'.title())"
   ]
  },
  {
   "cell_type": "code",
   "execution_count": 40,
   "id": "7e2df52c-cb2d-451c-9fa4-9e03a13ee789",
   "metadata": {},
   "outputs": [
    {
     "name": "stdout",
     "output_type": "stream",
     "text": [
      "Nested Tuple (1, 2, 3, (4, 5, 6), (4, 5, (6, 8, 9)))\n"
     ]
    }
   ],
   "source": [
    "#15. Create a nested tuple.\n",
    "test_tuple=(1,2,3,(4,5,6),(4,5,(6,8,9)))\n",
    "print('nested tuple'.title(),test_tuple)"
   ]
  },
  {
   "cell_type": "code",
   "execution_count": 41,
   "id": "38db3d34-ceca-468d-8fd4-0574f907b886",
   "metadata": {},
   "outputs": [
    {
     "name": "stdout",
     "output_type": "stream",
     "text": [
      "Nested Tuple (1, 2, 3, (4, 5, 6), (4, 5, (6, 8, 9)))\n",
      "First Element Of A Nested Tuple: 4\n"
     ]
    }
   ],
   "source": [
    "#16. Access the first element of a nested tuple.\n",
    "test_tuple=(1,2,3,(4,5,6),(4,5,(6,8,9)))\n",
    "print('nested tuple'.title(),test_tuple)\n",
    "print('first element of a nested tuple:'.title(),test_tuple[3][0])"
   ]
  },
  {
   "cell_type": "code",
   "execution_count": 42,
   "id": "99a50737-f2f2-475b-bf9e-ccaebe59e939",
   "metadata": {},
   "outputs": [],
   "source": [
    "#17. Create a tuple with a single element.\n",
    "test_tuple=(1,) #single Element tuple"
   ]
  },
  {
   "cell_type": "code",
   "execution_count": 44,
   "id": "bef77d2c-26dc-4776-960e-061bd1cba91a",
   "metadata": {},
   "outputs": [
    {
     "name": "stdout",
     "output_type": "stream",
     "text": [
      "False\n",
      "True\n"
     ]
    }
   ],
   "source": [
    "#18. Compare two tuples.\n",
    "test_tuple1=(1,2)\n",
    "test_tuple=(1,2)\n",
    "#Vompare tuple\n",
    "print(test_tuple1==test_tuple2)\n",
    "print(test_tuple1<test_tuple2)"
   ]
  },
  {
   "cell_type": "code",
   "execution_count": 45,
   "id": "48a1fc5b-e49a-4387-8d77-afb5f9350694",
   "metadata": {},
   "outputs": [
    {
     "name": "stdout",
     "output_type": "stream",
     "text": [
      "Tuple Deleted Successfully!\n"
     ]
    }
   ],
   "source": [
    "#19. Delete a tuple.\n",
    "test_tuple=(1,2,3)\n",
    "#delete tuple\n",
    "del test_tuple\n",
    "print('tuple deleted successfully!'.title())"
   ]
  },
  {
   "cell_type": "code",
   "execution_count": 46,
   "id": "f77d8f6a-c3ae-4b0d-a565-dab958df0918",
   "metadata": {},
   "outputs": [
    {
     "name": "stdout",
     "output_type": "stream",
     "text": [
      "(8, 7, 6, 5, 4, 3)\n"
     ]
    }
   ],
   "source": [
    "#20. Slice a tuple.\n",
    "test_tuple=(1,2,3,4,5,6,7,8,9)\n",
    "slice_tuple=test_tuple[-2:1:-1]\n",
    "print(slice_tuple)"
   ]
  },
  {
   "cell_type": "code",
   "execution_count": 48,
   "id": "e755cf49-401a-436f-8ac3-f6c411b95e89",
   "metadata": {},
   "outputs": [
    {
     "name": "stdout",
     "output_type": "stream",
     "text": [
      "Maximum Value In Tuple 9\n"
     ]
    }
   ],
   "source": [
    "#21. Find the maximum value in a tuple.\n",
    "test_tuple=(1,2,3,4,5,6,7,8,9)\n",
    "max_value=max(test_tuple)\n",
    "print('maximum value in tuple'.title(),max_value)"
   ]
  },
  {
   "cell_type": "code",
   "execution_count": 49,
   "id": "dc1a3ff1-03ac-4034-9e0b-f347f3eaca07",
   "metadata": {},
   "outputs": [
    {
     "name": "stdout",
     "output_type": "stream",
     "text": [
      "Maximum Value In Tuple 1\n"
     ]
    }
   ],
   "source": [
    "#21. Find the minimum value in a tuple.\n",
    "test_tuple=(1,2,3,4,5,6,7,8,9)\n",
    "min_value=min(test_tuple)\n",
    "print('maximum value in tuple'.title(),min_value)"
   ]
  },
  {
   "cell_type": "code",
   "execution_count": 50,
   "id": "9b831e58-1a50-491f-a356-f32cdbfbcf0a",
   "metadata": {},
   "outputs": [
    {
     "name": "stdout",
     "output_type": "stream",
     "text": [
      "('H', 'e', 'l', 'l', 'o', ' ', 'S', 't', 'u', 'd', 'e', 'n', 't', 's', ' ', 'H', 'o', 'w', ' ', 'A', 'r', 'e', ' ', 'Y', 'o', 'u', '!')\n"
     ]
    }
   ],
   "source": [
    "#23. Convert a string to a tuple of characters.\n",
    "in_str=\"hello students how are you!\".title()\n",
    "str_tuple=tuple(in_str)\n",
    "print(str_tuple)"
   ]
  },
  {
   "cell_type": "code",
   "execution_count": 51,
   "id": "f71607a2-5001-433e-b642-43b34952f2a7",
   "metadata": {},
   "outputs": [
    {
     "name": "stdout",
     "output_type": "stream",
     "text": [
      "Hello Students How Are You!\n"
     ]
    }
   ],
   "source": [
    "#24. Convert a tuple of characters to a string.\n",
    "test_tuple=('H', 'e', 'l', 'l', 'o', ' ', 'S', 't', 'u', 'd', 'e', 'n', 't', 's', ' ', 'H', 'o', 'w', ' ', 'A', 'r', 'e', ' ', 'Y', 'o', 'u', '!')\n",
    "test_str=''.join(test_tuple)\n",
    "print(test_str)"
   ]
  },
  {
   "cell_type": "code",
   "execution_count": 52,
   "id": "120a1b72-9cd6-405f-961e-03236f88c148",
   "metadata": {},
   "outputs": [
    {
     "name": "stdout",
     "output_type": "stream",
     "text": [
      "(1, 2, 'HELLO', [6, 7, 8], {1: 1, 2: 4}, 'Student', {1, 2, 4, 5, 6})\n"
     ]
    }
   ],
   "source": [
    "#25. Create a tuple from multiple data types.\n",
    "test_tuple=(1,2,'hello'.upper(),[6,7,8],{1:1,2:4},'student'.title(),{1,2,2,4,5,6,6})\n",
    "print(test_tuple)"
   ]
  },
  {
   "cell_type": "code",
   "execution_count": 39,
   "id": "3e155942-0168-42fd-8e0b-a97d340422d1",
   "metadata": {},
   "outputs": [
    {
     "name": "stdout",
     "output_type": "stream",
     "text": [
      "Identical Tuples\n"
     ]
    }
   ],
   "source": [
    "#26. Check if two tuples are identical.\n",
    "test_tuple1=(1,2,3)\n",
    "test_tuple2=(1,2,3,1)\n",
    "if test_tuple1==tuple(sorted(set(test_tuple2))):\n",
    "    print('identical tuples'.title())\n",
    "else:\n",
    "    print('unidentical tuples'.title())\n",
    "    "
   ]
  },
  {
   "cell_type": "code",
   "execution_count": 58,
   "id": "d3a977e7-f88b-4d2b-9e29-1a879bb7a408",
   "metadata": {},
   "outputs": [
    {
     "name": "stdout",
     "output_type": "stream",
     "text": [
      "Tuple Before Sorting\n",
      "(1, 5, 2, 3, 7, 4, 6, 8, 0, 9)\n",
      "Tuple After Sorting\n",
      "[0, 1, 2, 3, 4, 5, 6, 7, 8, 9]\n"
     ]
    }
   ],
   "source": [
    "#27. Sort the elements of a tuple.\n",
    "test_tuple=(1,5,2,3,7,4,6,8,0,9)\n",
    "print('tuple before sorting'.title(),test_tuple,sep='\\n')\n",
    "test_tuple=sorted(test_tuple)\n",
    "print('tuple after sorting'.title())\n",
    "print(test_tuple)"
   ]
  },
  {
   "cell_type": "code",
   "execution_count": 61,
   "id": "5f27f5c5-5444-4d29-9ab0-cf46b07bf3a3",
   "metadata": {},
   "outputs": [
    {
     "name": "stdout",
     "output_type": "stream",
     "text": [
      "('1', '2', '3', '4', '5', '6', '7')\n"
     ]
    }
   ],
   "source": [
    "#28. Convert a tuple of integers to a tuple of strings.\n",
    "int_tuple=(1,2,3,4,5,6,7)\n",
    "str_tuple=tuple(str(x) for x in int_tuple)\n",
    "print(str_tuple)"
   ]
  },
  {
   "cell_type": "code",
   "execution_count": 62,
   "id": "5ea00267-a87e-4b63-8c9e-acae93b83131",
   "metadata": {},
   "outputs": [
    {
     "name": "stdout",
     "output_type": "stream",
     "text": [
      "(1, 2, 3, 4, 5, 6, 7)\n"
     ]
    }
   ],
   "source": [
    "#29. Convert a tuple of strings to a tuple of integers.\n",
    "str_tuple=('1', '2', '3', '4', '5', '6', '7')\n",
    "int_tuple=tuple(int(x) for x in str_tuple)\n",
    "print(int_tuple)"
   ]
  },
  {
   "cell_type": "code",
   "execution_count": 65,
   "id": "0aa23c54-b270-4f12-9209-dca5078b2c55",
   "metadata": {},
   "outputs": [
    {
     "name": "stdout",
     "output_type": "stream",
     "text": [
      "Tuple Before Merging\n",
      "(1, 2, 3, 4)\n",
      "(5, 6, 7, 8)\n",
      "Tuple After Merge Two Tuples\n",
      "(1, 2, 3, 4, 5, 6, 7, 8)\n"
     ]
    }
   ],
   "source": [
    "#30. Merge two tuples.\n",
    "test_tuple1=(1,2,3,4)\n",
    "test_tuple2=(5,6,7,8)\n",
    "merge_tuple=test_tuple1+test_tuple2\n",
    "print('tuple before merging'.title(),test_tuple1,test_tuple2,sep='\\n')\n",
    "print('tuple after merge two tuples'.title(),merge_tuple,sep='\\n')"
   ]
  },
  {
   "cell_type": "code",
   "execution_count": 69,
   "id": "2964fa3f-d6f5-4d4d-a36e-aad4c044d248",
   "metadata": {},
   "outputs": [
    {
     "name": "stdout",
     "output_type": "stream",
     "text": [
      "(1, 2, 34, 45, 76, 8)\n"
     ]
    }
   ],
   "source": [
    "#31. Flatten a nested tuple.\n",
    "nested_tuple=((1,2,34,),(45,76,8))\n",
    "flat_tuple=tuple(item for l in nested_tuple for item in l)\n",
    "print(flat_tuple)"
   ]
  },
  {
   "cell_type": "code",
   "execution_count": 31,
   "id": "2a7b48ef-b63f-4473-87d6-dcce1851138a",
   "metadata": {},
   "outputs": [
    {
     "name": "stdout",
     "output_type": "stream",
     "text": [
      "(2, 3, 5, 7, 11)\n"
     ]
    }
   ],
   "source": [
    "#32. Create a tuple of the first 5 prime numbers.\n",
    "prime_tuple=tuple([x for x in range(2,12 ) if all(x % y for y in range(2, (x//2)+1))])\n",
    "print(prime_tuple)"
   ]
  },
  {
   "cell_type": "code",
   "execution_count": 72,
   "id": "4bbff13c-0b0e-4eb1-b0a5-8b7067d673b3",
   "metadata": {},
   "outputs": [
    {
     "name": "stdout",
     "output_type": "stream",
     "text": [
      "Tuple Is Palindrome\n"
     ]
    }
   ],
   "source": [
    "#33. Check if a tuple is a palindrome.\n",
    "test_tuple=(1,2,3,2,1)\n",
    "rev_tuple=test_tuple[::-1]\n",
    "if test_tuple==rev_tuple:\n",
    "    print('tuple is palindrome'.title())\n",
    "else:\n",
    "    print('tuple is not palindrome'.title())"
   ]
  },
  {
   "cell_type": "code",
   "execution_count": 73,
   "id": "58d6bcd7-1cea-427d-b5c6-6071b33df341",
   "metadata": {},
   "outputs": [
    {
     "name": "stdout",
     "output_type": "stream",
     "text": [
      "(1, 4, 9, 16, 25)\n"
     ]
    }
   ],
   "source": [
    "#34. Create a tuple of squares of numbers from 1 to 5.\n",
    "test_tuple=tuple(x**2 for x in range(1,6))\n",
    "print(test_tuple)"
   ]
  },
  {
   "cell_type": "code",
   "execution_count": 78,
   "id": "117a85e4-c7d4-4fac-9a3b-eef9d765539a",
   "metadata": {},
   "outputs": [
    {
     "name": "stdout",
     "output_type": "stream",
     "text": [
      "EVEN NO TUPLE (2, 4, 6, 8, 90)\n"
     ]
    }
   ],
   "source": [
    "#35. Filter out all even numbers from a tuple.\n",
    "test_tuple=(1,2,3,4,5,6,7,8,9,90)\n",
    "even_tuple=tuple( x for x in test_tuple if x%2==0 )\n",
    "print(\"even no tuple\".upper(),even_tuple)"
   ]
  },
  {
   "cell_type": "code",
   "execution_count": 82,
   "id": "64015006-9840-438a-b4d7-d354996f1e0f",
   "metadata": {},
   "outputs": [
    {
     "name": "stdout",
     "output_type": "stream",
     "text": [
      "TUPLE BEFORE VMULTIPLY BY 2\n",
      "(1, 2, 3, 4, 5, 6, 7, 8, 9, 90)\n",
      "TUPLE AFTER VMULTIPLY BY 2\n",
      "(2, 4, 6, 8, 10, 12, 14, 16, 18, 180)\n"
     ]
    }
   ],
   "source": [
    "#36. Multiply all elements in a tuple by 2.\n",
    "#35. Filter out all even numbers from a tuple.\n",
    "test_tuple=(1,2,3,4,5,6,7,8,9,90)\n",
    "print(\"tuple Before vmultiply by 2\".upper(),test_tuple,sep='\\n')\n",
    "test_tuple=tuple( x*2 for x in test_tuple )\n",
    "print(\"tuple After vmultiply by 2\".upper(),test_tuple,sep='\\n')"
   ]
  },
  {
   "cell_type": "code",
   "execution_count": 84,
   "id": "0ad1fc69-0cf1-4afd-9767-b1afb1ebb79a",
   "metadata": {},
   "outputs": [
    {
     "name": "stdout",
     "output_type": "stream",
     "text": [
      "(41, 33, 62, 12, 1, 81, 100, 55, 76)\n"
     ]
    }
   ],
   "source": [
    "#37. Create a tuple of random numbers.\n",
    "import random\n",
    "random_tuple=tuple(random.randint(1,100) for x  in range(1,10))\n",
    "print(random_tuple)"
   ]
  },
  {
   "cell_type": "code",
   "execution_count": 92,
   "id": "c0047ee3-af97-4f38-ac3e-1c650454f416",
   "metadata": {},
   "outputs": [
    {
     "name": "stdout",
     "output_type": "stream",
     "text": [
      "Tuple Is Not Sorted\n"
     ]
    }
   ],
   "source": [
    "#38. Check if a tuple is sorted.\n",
    "test_tuple=(1,2,3,4,5,6)\n",
    "if test_tuple== tuple(sorted(test_tuple)):\n",
    "    print('tuple is sorted'.title())\n",
    "else:\n",
    "    print('tuple is not sorted'.title())"
   ]
  },
  {
   "cell_type": "code",
   "execution_count": 93,
   "id": "e76a99d8-ec7c-4a72-aea9-978be6f793fd",
   "metadata": {},
   "outputs": [
    {
     "name": "stdout",
     "output_type": "stream",
     "text": [
      "Orignal Tuple [1, 2, 5, 4, 3, 6, 7, 8, 9, 10]\n"
     ]
    },
    {
     "name": "stdin",
     "output_type": "stream",
     "text": [
      "Enter Position 3\n"
     ]
    },
    {
     "name": "stdout",
     "output_type": "stream",
     "text": [
      "List After Left Rotation (4, 5, 6, 7, 8, 9, 1, 2, 3)\n"
     ]
    }
   ],
   "source": [
    "#39. Rotate a tuple to the left by `n` positions.\n",
    "test_tuple=(1,2,3,4,5,6,7,8,9)\n",
    "print('Orignal tuple'.title(),l)\n",
    "n=int(input(\"Enter Position\"))\n",
    "rotate_tuple=test_tuple[n:]+test_tuple[:n]\n",
    "print(\"List After left Rotation\".title(),rotate_tuple)"
   ]
  },
  {
   "cell_type": "code",
   "execution_count": 94,
   "id": "c4a9a726-973c-4109-bc3a-3e49278c496a",
   "metadata": {},
   "outputs": [
    {
     "name": "stdout",
     "output_type": "stream",
     "text": [
      "Orignal Tuple [1, 2, 5, 4, 3, 6, 7, 8, 9, 10]\n"
     ]
    },
    {
     "name": "stdin",
     "output_type": "stream",
     "text": [
      "Enter Position 3\n"
     ]
    },
    {
     "name": "stdout",
     "output_type": "stream",
     "text": [
      "List After Left Rotation (7, 8, 9, 1, 2, 3, 4, 5, 6)\n"
     ]
    }
   ],
   "source": [
    "#40. Rotate a tuple to the right by `n` positions.\n",
    "test_tuple=(1,2,3,4,5,6,7,8,9)\n",
    "print('Orignal tuple'.title(),l)\n",
    "n=int(input(\"Enter Position\"))\n",
    "rotate_tuple=test_tuple[-n:]+test_tuple[:-n]\n",
    "print(\"List After left Rotation\".title(),rotate_tuple)"
   ]
  },
  {
   "cell_type": "code",
   "execution_count": 96,
   "id": "56319ab8-4618-4165-86f2-f8f04180790c",
   "metadata": {},
   "outputs": [
    {
     "name": "stdout",
     "output_type": "stream",
     "text": [
      "First 10 Fibonacci numbers:\n",
      "(0, 1, 1, 2, 3, 5)\n"
     ]
    }
   ],
   "source": [
    "#41. Create a tuple of the first 5 Fibonacci numbers.\n",
    "def fibonacci_nums(n):\n",
    "  if n <= 0:\n",
    "    return [0]\n",
    "  sequence = [0, 1]\n",
    "  while len(sequence) <= n:\n",
    "    next_value = sequence[len(sequence) - 1] + sequence[len(sequence) - 2]\n",
    "    sequence.append(next_value)\n",
    "  return sequence\n",
    "print(\"First 10 Fibonacci numbers:\")\n",
    "print(tuple(fibonacci_nums(5)))"
   ]
  },
  {
   "cell_type": "code",
   "execution_count": 97,
   "id": "7d7efcbf-8839-4aa0-9ccb-1170b23a32da",
   "metadata": {},
   "outputs": [
    {
     "name": "stdin",
     "output_type": "stream",
     "text": [
      "Enter A Tuple (4,5,7,89,5,7,)\n"
     ]
    },
    {
     "name": "stdout",
     "output_type": "stream",
     "text": [
      "(4, 5, 7, 89, 5, 7)\n"
     ]
    }
   ],
   "source": [
    "#42. Create a tuple from user input.\n",
    "in_tuple=eval(input(\"Enter a tuple\".title()))\n",
    "print(in_tuple)"
   ]
  },
  {
   "cell_type": "code",
   "execution_count": 98,
   "id": "a672ed96-a23f-4190-85ab-c60e4ea0d70f",
   "metadata": {},
   "outputs": [
    {
     "name": "stdout",
     "output_type": "stream",
     "text": [
      "Tuple Before Swaping (1, 2, 3, 4, 5, 6, 7, 8, 9)\n",
      "Tuple After Swaping (9, 2, 3, 4, 5, 6, 7, 8, 1)\n"
     ]
    }
   ],
   "source": [
    "#43. Swap two elements in a tuple.\n",
    "test_tuple=(1,2,3,4,5,6,7,8,9)\n",
    "print('tuple before swaping'.title(),test_tuple)\n",
    "#swap 0th and 8th index item\n",
    "test_tuple=list(test_tuple)\n",
    "test_tuple[0],test_tuple[8]=test_tuple[8],test_tuple[0]\n",
    "test_tuple=tuple(test_tuple)\n",
    "print('tuple after swaping'.title(),test_tuple)"
   ]
  },
  {
   "cell_type": "code",
   "execution_count": 100,
   "id": "e57c28a8-4794-4a9f-90ea-e6e6d6e93fd4",
   "metadata": {},
   "outputs": [
    {
     "name": "stdout",
     "output_type": "stream",
     "text": [
      "Tuple Before Reverse Element\n",
      "(1, 2, 3, 4, 5, 8, 9, 6, 7)\n",
      "Tuple After Reverse Element\n",
      "(7, 6, 9, 8, 5, 4, 3, 2, 1)\n"
     ]
    }
   ],
   "source": [
    "#44. Reverse the elements of a tuple.\n",
    "test_tuple=(1,2,3,4,5,8,9,6,7)\n",
    "print('tuple before reverse element'.title(),test_tuple,sep='\\n')\n",
    "#reverse the item of test tuple\n",
    "test_tuple=test_tuple[::-1]\n",
    "print('tuple after reverse element'.title(),test_tuple,sep='\\n')"
   ]
  },
  {
   "cell_type": "code",
   "execution_count": 102,
   "id": "6f5e46a5-372b-4add-bf7c-76ed9e4fa1ee",
   "metadata": {},
   "outputs": [
    {
     "name": "stdin",
     "output_type": "stream",
     "text": [
      "Enter A Natural Int No 10\n"
     ]
    },
    {
     "name": "stdout",
     "output_type": "stream",
     "text": [
      "(2, 4, 8, 16, 32, 64, 128, 256, 512, 1024)\n"
     ]
    }
   ],
   "source": [
    "#45. Create a tuple of the first `n` powers of 2.\n",
    "n=int(input('enter a natural int no'.title()))\n",
    "power_tuple=tuple(2**x for x in range(1,n+1))\n",
    "print(power_tuple)"
   ]
  },
  {
   "cell_type": "code",
   "execution_count": 103,
   "id": "0ac2d2d5-2874-44da-a0c2-1037829a340e",
   "metadata": {},
   "outputs": [
    {
     "name": "stdout",
     "output_type": "stream",
     "text": [
      "Longest String: Students!\n"
     ]
    }
   ],
   "source": [
    "#46. Find the longest string in a tuple of strings.\n",
    "test_tuple=('Hello', 'Students!', 'How', 'Are', 'You?')\n",
    "long_word=''\n",
    "for word in test_tuple:\n",
    "    if len(long_word)<=len(word):#compare the word\n",
    "        long_word=word\n",
    "print(\"Longest String:\",long_word) #Note: Tis code find Last Longest word from the List"
   ]
  },
  {
   "cell_type": "code",
   "execution_count": 104,
   "id": "a6c86784-2bb0-40b9-af81-379ec81c43db",
   "metadata": {},
   "outputs": [
    {
     "name": "stdout",
     "output_type": "stream",
     "text": [
      "Shortest String: Are\n"
     ]
    }
   ],
   "source": [
    "#47. Find the shortest string in a tuple of strings.\n",
    "test_tuple=('Hello', 'Students!', 'How', 'Are', 'You?')\n",
    "short_word=test_tuple[0] # Suppose that zero index element  have minimum char\n",
    "for word in test_tuple:\n",
    "    if len(short_word)>=len(word):#compare the word\n",
    "        short_word=word\n",
    "print(\"Shortest String:\",short_word) #Note: This code find Last shortest word from the tuple"
   ]
  },
  {
   "cell_type": "code",
   "execution_count": 105,
   "id": "3106a5c6-b729-4f0b-8879-8e5e8b410030",
   "metadata": {},
   "outputs": [
    {
     "name": "stdin",
     "output_type": "stream",
     "text": [
      "Enter A number 8\n"
     ]
    },
    {
     "name": "stdout",
     "output_type": "stream",
     "text": [
      "(1, 3, 6, 10, 15, 21, 28, 36)\n"
     ]
    }
   ],
   "source": [
    "#48. Create a tuple of the first `n` triangular numbers.\n",
    "n=int(input(\"Enter A number\"))\n",
    "triangular_tuple=[1]\n",
    "for i in range(2,n+1):\n",
    "    triangular_tuple.append(triangular_tuple[-1]+i)\n",
    "print(tuple(triangular_tuple))"
   ]
  },
  {
   "cell_type": "code",
   "execution_count": 4,
   "id": "4bfbdf93-a9b2-4ca0-ac77-36b6366990b5",
   "metadata": {},
   "outputs": [
    {
     "name": "stdout",
     "output_type": "stream",
     "text": [
      "Tuple Contains Another Tuple As A Subsequence\n"
     ]
    }
   ],
   "source": [
    "#49. Check if a tuple contains another tuple as a subsequence.\n",
    "test_tuple=(1,2,'a',8,(8,9),9,0)\n",
    "for item in test_tuple:\n",
    "    if type(item)==tuple:\n",
    "        print('tuple contains another tuple as a subsequence'.title())\n",
    "        break\n",
    "else:\n",
    "    print('tuple not contains another tuple as a subsequence'.title())"
   ]
  },
  {
   "cell_type": "code",
   "execution_count": 11,
   "id": "20097e55-c1f2-4691-bf1d-bc1bc21d5df8",
   "metadata": {},
   "outputs": [
    {
     "name": "stdout",
     "output_type": "stream",
     "text": [
      "(1, 0, 1, 0, 1, 0, 1, 0, 1, 0, 1, 0, 1, 0, 1, 0, 1, 0, 1, 0, 1, 0, 1, 0, 1, 0, 1, 0, 1, 0, 1, 0, 1, 0, 1, 0, 1, 0, 1, 0, 1, 0, 1, 0, 1, 0, 1, 0, 1)\n"
     ]
    }
   ],
   "source": [
    "#50. Create a tuple of alternating 1s and 0s of length `n`.\n",
    "test_tuple=tuple(1 if x%2==1  else 0 for x in range(1,50))\n",
    "print(test_tuple)"
   ]
  },
  {
   "cell_type": "code",
   "execution_count": null,
   "id": "8a8fb1e6-e4cb-4564-a73e-f3381cf7b3b4",
   "metadata": {},
   "outputs": [],
   "source": [
    "# ************************  Set Based Practice Problem :  **********************"
   ]
  },
  {
   "cell_type": "code",
   "execution_count": 1,
   "id": "0705f9d7-51f3-4cce-b2ba-b740e6a1de6a",
   "metadata": {},
   "outputs": [
    {
     "name": "stdout",
     "output_type": "stream",
     "text": [
      "{1, 2, 3, 4, 5}\n"
     ]
    }
   ],
   "source": [
    "#1. Create a set with integers from 1 to 5.\n",
    "s={x for x in range(1,6)}\n",
    "print(s)"
   ]
  },
  {
   "cell_type": "code",
   "execution_count": 3,
   "id": "7ff4bec5-8cca-452b-9ea1-b59f22c21d7e",
   "metadata": {},
   "outputs": [
    {
     "name": "stdout",
     "output_type": "stream",
     "text": [
      "Set Before Adding Element\n",
      "{1, 2, 4, 5, 6}\n"
     ]
    },
    {
     "name": "stdin",
     "output_type": "stream",
     "text": [
      "Enter set item 3\n"
     ]
    },
    {
     "name": "stdout",
     "output_type": "stream",
     "text": [
      "Set After Adding Element\n",
      "{1, 2, 3, 4, 5, 6}\n"
     ]
    }
   ],
   "source": [
    "#2. Add an element to a set.\n",
    "test_set={1,2,4,5,6}\n",
    "print('set before adding element'.title(),test_set,sep='\\n')\n",
    "# adding item in set\n",
    "item=eval(input(\"Enter set item\"))\n",
    "test_set.add(item)\n",
    "print('set after adding element'.title(),test_set,sep='\\n')\n"
   ]
  },
  {
   "cell_type": "code",
   "execution_count": 5,
   "id": "209255ce-8f2e-476f-9e6e-cb80f8978e85",
   "metadata": {},
   "outputs": [
    {
     "name": "stdout",
     "output_type": "stream",
     "text": [
      "Set Before Removing Element\n",
      "{1, 2, 4, 5, 6}\n"
     ]
    },
    {
     "name": "stdin",
     "output_type": "stream",
     "text": [
      "Enter set item 2\n"
     ]
    },
    {
     "name": "stdout",
     "output_type": "stream",
     "text": [
      "Set After Removing Element\n",
      "{1, 4, 5, 6}\n"
     ]
    }
   ],
   "source": [
    "#3. Remove an element from a set.\n",
    "test_set={1,2,4,5,6}\n",
    "print('set before removing element'.title(),test_set,sep='\\n')\n",
    "# adding item in set\n",
    "item=eval(input(\"Enter set item\"))\n",
    "test_set.remove(item)\n",
    "print('set after removing element'.title(),test_set,sep='\\n')"
   ]
  },
  {
   "cell_type": "code",
   "execution_count": 6,
   "id": "e5c60b79-97f7-4a44-bb92-adec44dd3d80",
   "metadata": {},
   "outputs": [
    {
     "name": "stdin",
     "output_type": "stream",
     "text": [
      "Enter A Set Item  4\n"
     ]
    },
    {
     "name": "stdout",
     "output_type": "stream",
     "text": [
      "Item Is Available In Set\n"
     ]
    }
   ],
   "source": [
    "#4. Check if an element exists in a set.\n",
    "test_set={1,2,4,5,6}\n",
    "#print('set before removing element'.title(),test_set,sep='\\n')\n",
    "item=eval(input(\"enter a set item \".title()))\n",
    "if item in test_set:\n",
    "    print('Item is available in set'.title())\n",
    "else:\n",
    "    print('item is not available in set'.title())\n",
    "\n",
    "          "
   ]
  },
  {
   "cell_type": "code",
   "execution_count": 7,
   "id": "4beefc16-b422-4212-81b3-02d6ff8a3bf5",
   "metadata": {},
   "outputs": [
    {
     "name": "stdout",
     "output_type": "stream",
     "text": [
      "Set Length: 8\n"
     ]
    }
   ],
   "source": [
    "#5. Find the length of a set without using the `len()` function.\n",
    "test_set={1,2,3,4,5,6,7,8}\n",
    "set_len=0#initially set len 0\n",
    "# itrate set element one by one\n",
    "for item in test_set:\n",
    "    set_len+=1\n",
    "print(\"set length:\".title(),set_len)"
   ]
  },
  {
   "cell_type": "code",
   "execution_count": 8,
   "id": "1cea3d81-2753-4711-99fc-591ebdc6764e",
   "metadata": {},
   "outputs": [
    {
     "name": "stdout",
     "output_type": "stream",
     "text": [
      "set()\n"
     ]
    }
   ],
   "source": [
    "#6. Clear all elements from a set.\n",
    "test_set={1,2,3,4,5,6,7,8}\n",
    "# clear all item from sewt\n",
    "test_set.clear()\n",
    "print(test_set)"
   ]
  },
  {
   "cell_type": "code",
   "execution_count": 9,
   "id": "63475ac1-6755-40d3-97fa-ea610464c86a",
   "metadata": {},
   "outputs": [
    {
     "name": "stdout",
     "output_type": "stream",
     "text": [
      "Even No Set: {2, 4, 6, 8, 10}\n"
     ]
    }
   ],
   "source": [
    "#7. Create a set of even numbers from 1 to 10.\n",
    "even_set={x for x in range(2,11,2)}\n",
    "print(\"even no set:\".title(),even_set)"
   ]
  },
  {
   "cell_type": "code",
   "execution_count": 11,
   "id": "19c39331-70a1-465d-a100-1afa5b507300",
   "metadata": {},
   "outputs": [
    {
     "name": "stdout",
     "output_type": "stream",
     "text": [
      "Odd No Set: {1, 3, 5, 7, 9}\n"
     ]
    }
   ],
   "source": [
    "#8. Create a set of odd numbers from 1 to 10.\n",
    "odd_set={x for x in range(1,11,2)}\n",
    "print(\"odd no set:\".title(),odd_set)"
   ]
  },
  {
   "cell_type": "code",
   "execution_count": 12,
   "id": "3a8acf92-055f-432d-8052-ef0f81b6c00c",
   "metadata": {},
   "outputs": [
    {
     "name": "stdout",
     "output_type": "stream",
     "text": [
      "{1, 2, 3, 4, 5, 6, 7, 8, 9}\n"
     ]
    }
   ],
   "source": [
    "#9. Find the union of two sets.\n",
    "test_set1={1,2,3,5,8}\n",
    "test_set2={4,6,7,9}\n",
    "union_set=test_set1.union(test_set2)\n",
    "print(union_set)"
   ]
  },
  {
   "cell_type": "code",
   "execution_count": 14,
   "id": "efb78969-9775-42ef-8f81-771314ba1f8f",
   "metadata": {},
   "outputs": [
    {
     "name": "stdout",
     "output_type": "stream",
     "text": [
      "{9, 3}\n"
     ]
    }
   ],
   "source": [
    "#10. Find the intersection of two sets.\n",
    "test_set1={1,2,3,5,8,9}\n",
    "test_set2={4,6,4,3,7,9}\n",
    "int_set=test_set1.intersection(test_set2)\n",
    "print(int_set)"
   ]
  },
  {
   "cell_type": "code",
   "execution_count": 17,
   "id": "ad7b9f27-0a6f-493c-a8c0-04639c23a473",
   "metadata": {},
   "outputs": [
    {
     "name": "stdout",
     "output_type": "stream",
     "text": [
      "{8, 1, 2, 5}\n"
     ]
    }
   ],
   "source": [
    "#11. Find the difference between two sets.\n",
    "test_set1={1,2,3,5,8,9}\n",
    "test_set2={4,6,4,3,7,9}\n",
    "diff_set=test_set1.difference(test_set2)\n",
    "print(diff_set)"
   ]
  },
  {
   "cell_type": "code",
   "execution_count": 18,
   "id": "62a71911-444d-451e-b1c4-13bb690c27ab",
   "metadata": {},
   "outputs": [
    {
     "name": "stdout",
     "output_type": "stream",
     "text": [
      "Set is Subset\n"
     ]
    }
   ],
   "source": [
    "#12. Check if a set is a subset of another set.\n",
    "test_set1={7,9}\n",
    "test_set2={4,6,4,3,7,9}\n",
    "if test_set.issubset(test_set2):\n",
    "    print(\"Set is Subset\")\n",
    "else:\n",
    "    print(\"Set is not Subset\")"
   ]
  },
  {
   "cell_type": "code",
   "execution_count": 19,
   "id": "86c2ed70-beb2-4be4-b7d8-a14d2b2d7d96",
   "metadata": {},
   "outputs": [
    {
     "name": "stdout",
     "output_type": "stream",
     "text": [
      "Set is Superset\n"
     ]
    }
   ],
   "source": [
    "#13. Check if a set is a superset of another set.\n",
    "test_set1={1,2,3,5,8,9,4,6,7}\n",
    "test_set2={4,6,4,3,7,9}\n",
    "if test_set1.issuperset(test_set2):\n",
    "    print(\"Set is Superset\")\n",
    "else:\n",
    "    print(\"Set is not Superset\")"
   ]
  },
  {
   "cell_type": "code",
   "execution_count": 20,
   "id": "715f21e0-1537-4d10-ac55-10eda836e619",
   "metadata": {},
   "outputs": [
    {
     "name": "stdout",
     "output_type": "stream",
     "text": [
      "{1, 2, 3, 4, 5, 6}\n"
     ]
    }
   ],
   "source": [
    "#14. Create a set from a list.\n",
    "test_list=[1,3,2,4,6,5,6]\n",
    "# create set from List\n",
    "test_set=set(test_list)\n",
    "print(test_set)"
   ]
  },
  {
   "cell_type": "code",
   "execution_count": 21,
   "id": "363b64ff-3f03-48d0-bded-57d496f8e8a0",
   "metadata": {},
   "outputs": [
    {
     "name": "stdout",
     "output_type": "stream",
     "text": [
      "[1, 2, 3, 4, 5, 6]\n"
     ]
    }
   ],
   "source": [
    "#15. Convert a set to a list.\n",
    "# create set from List\n",
    "test_set={1,3,2,4,6,5,6}\n",
    "test_list=list(test_set)\n",
    "print(test_list)"
   ]
  },
  {
   "cell_type": "code",
   "execution_count": 22,
   "id": "1e71141e-e415-4cc5-8d13-94c1853eacf3",
   "metadata": {},
   "outputs": [
    {
     "name": "stdout",
     "output_type": "stream",
     "text": [
      "Before Rmoving Item {1, 2, 3, 4, 5, 6}\n",
      "After Rmoving Item {2, 3, 4, 5, 6}\n"
     ]
    }
   ],
   "source": [
    "#16. Remove a random element from a set.\n",
    "test_set={1,3,2,4,6,5,6}\n",
    "print('before rmoving item'.title(),test_set)\n",
    "# remove random item\n",
    "test_set.pop()\n",
    "print('after rmoving item'.title(),test_set)"
   ]
  },
  {
   "cell_type": "code",
   "execution_count": 23,
   "id": "af56862a-0fc9-4bbe-91eb-b96ea3366ce8",
   "metadata": {},
   "outputs": [
    {
     "name": "stdout",
     "output_type": "stream",
     "text": [
      "Before Rmoving Item {1, 2, 3, 4, 5, 6}\n",
      "After Rmoving Item {2, 3, 4, 5, 6}\n"
     ]
    }
   ],
   "source": [
    "#17. Pop an element from a set.\n",
    "test_set={1,3,2,4,6,5,6}\n",
    "print('before rmoving item'.title(),test_set)\n",
    "# remove random item\n",
    "test_set.pop()\n",
    "print('after rmoving item'.title(),test_set)"
   ]
  },
  {
   "cell_type": "code",
   "execution_count": 25,
   "id": "27e84a04-56e5-4b4f-8ad5-358be0ab6165",
   "metadata": {},
   "outputs": [
    {
     "name": "stdout",
     "output_type": "stream",
     "text": [
      "Set Have Not No Common Item\n"
     ]
    }
   ],
   "source": [
    "#18. Check if two sets have no elements in common.\n",
    "test_set1={1,2,3,5,8,9,6,7}\n",
    "test_set2={24,26,13,17,90}\n",
    "if len(test_set1.intersection(test_set2))>0:\n",
    "    print(\"set have some common items\".title())\n",
    "else:\n",
    "    print(\"Set have not no common item\".title())"
   ]
  },
  {
   "cell_type": "code",
   "execution_count": 27,
   "id": "7340404c-7c3f-43a1-93b4-d2ca07b267c6",
   "metadata": {},
   "outputs": [
    {
     "name": "stdout",
     "output_type": "stream",
     "text": [
      "{1, 2, 4, 5, 6, 7, 8}\n"
     ]
    }
   ],
   "source": [
    "#19. Find the symmetric difference between two sets.\n",
    "test_set1={1,2,3,5,8,9}\n",
    "test_set2={4,6,4,3,7,9}\n",
    "sy_diff_set=test_set1.symmetric_difference(test_set2)\n",
    "print(sy_diff_set)"
   ]
  },
  {
   "cell_type": "code",
   "execution_count": 30,
   "id": "756b17ad-c74c-4550-b401-bb0a9a9ea07e",
   "metadata": {},
   "outputs": [
    {
     "name": "stdout",
     "output_type": "stream",
     "text": [
      "Set Before Update: {1, 2, 3, 5, 8, 9}\n",
      "Set After Update: {1, 2, 3, 4, 5, 6, 7, 8, 9}\n"
     ]
    }
   ],
   "source": [
    "#20. Update a set with elements from another set.\n",
    "test_set1={1,2,3,5,8,9}\n",
    "test_set2={4,6,4,3,7,9}\n",
    "print('set before update:'.title(),test_set1)\n",
    "test_set1.update(test_set2)\n",
    "print('set after update:'.title(),test_set1)\n",
    "#print(test_set1)"
   ]
  },
  {
   "cell_type": "code",
   "execution_count": 32,
   "id": "fefc7acf-7c51-4885-890b-fbf18867a45b",
   "metadata": {},
   "outputs": [
    {
     "name": "stdout",
     "output_type": "stream",
     "text": [
      "(2, 3, 5, 7, 11)\n"
     ]
    }
   ],
   "source": [
    "#21. Create a set of the first 5 prime numbers.\n",
    "prime_set={x for x in range(2,12 ) if all(x % y for y in range(2, (x//2)+1))}\n",
    "print(prime_tuple)"
   ]
  },
  {
   "cell_type": "code",
   "execution_count": 36,
   "id": "b834140c-3ec5-4e54-985c-9fb842b19478",
   "metadata": {},
   "outputs": [
    {
     "name": "stdout",
     "output_type": "stream",
     "text": [
      "First Set: {1, 2, 3, 5, 8, 9}\n",
      "Second Set: {1, 2, 3, 5, 8, 9}\n",
      "Sets Are Identical\n"
     ]
    }
   ],
   "source": [
    "#22. Check if two sets are identical.\n",
    "test_set1={1,2,3,5,8,9}\n",
    "test_set2={3,5,8,9,1,2}\n",
    "print('first set:'.title(),test_set1)\n",
    "print('second set:'.title(),test_set2)\n",
    "if test_set1==set(sorted(test_set2)):\n",
    "    print('sets are identical'.title())\n",
    "else:\n",
    "    print('sets are not identical'.title())\n",
    "#test_set1.update(test_set2)\n",
    "\n",
    "#print(test_set1)"
   ]
  },
  {
   "cell_type": "code",
   "execution_count": 40,
   "id": "63ca0d52-6673-4496-8c7f-a913d244d60f",
   "metadata": {},
   "outputs": [],
   "source": [
    "#23. Create a frozen set.\n",
    "test_set={1,3,5,6,3}\n",
    "# creat frozen set\n",
    "froz_set=frozenset(test_set)"
   ]
  },
  {
   "cell_type": "code",
   "execution_count": 41,
   "id": "3f02295b-7e9e-4594-a6b3-38ba03d31c51",
   "metadata": {},
   "outputs": [
    {
     "name": "stdout",
     "output_type": "stream",
     "text": [
      "Disjoint Set\n"
     ]
    }
   ],
   "source": [
    "#24. Check if a set is disjoint with another set.\n",
    "test_set1={1,2,3,5,8,9,4,6,7}\n",
    "test_set2={11,22,33,44,55}\n",
    "if test_set1.isdisjoint(test_set2):\n",
    "    print(\"disjoint set\".title())\n",
    "else:\n",
    "    print(\"Set is not disjoint\".title())"
   ]
  },
  {
   "cell_type": "code",
   "execution_count": 42,
   "id": "c39191a4-6b83-4f87-b2fc-5c34d508273c",
   "metadata": {},
   "outputs": [
    {
     "name": "stdout",
     "output_type": "stream",
     "text": [
      "{1, 4, 9, 16, 25}\n"
     ]
    }
   ],
   "source": [
    "#25. Create a set of squares of numbers from 1 to 5.\n",
    "squre_set={x**2 for x in range(1,6)}\n",
    "print(squre_set)"
   ]
  },
  {
   "cell_type": "code",
   "execution_count": 43,
   "id": "8999019a-238a-4fa9-9ef9-b2354129354a",
   "metadata": {},
   "outputs": [
    {
     "name": "stdout",
     "output_type": "stream",
     "text": [
      "{8, 2, 4, 6}\n"
     ]
    }
   ],
   "source": [
    "#26. Filter out all even numbers from a set.\n",
    "test_set={1,2,3,5,8,9,4,6,7}\n",
    "even_set={x for x in test_set if x%2==0}\n",
    "print(even_set)"
   ]
  },
  {
   "cell_type": "code",
   "execution_count": 46,
   "id": "7d729173-6cf1-4178-9480-fe345582f8c6",
   "metadata": {},
   "outputs": [
    {
     "name": "stdout",
     "output_type": "stream",
     "text": [
      "Set Before Multiply {1, 2, 3, 4, 5, 6, 7, 8, 9}\n",
      "Set After Multiply {2, 4, 6, 8, 10, 12, 14, 16, 18}\n"
     ]
    }
   ],
   "source": [
    "#27. Multiply all elements in a set by 2.\n",
    "test_set={1,2,3,5,8,9,4,6,7}\n",
    "print('set before multiply'.title(),test_set)\n",
    "test_set={x*2 for x in test_set}\n",
    "print('set after multiply'.title(),test_set)\n",
    "#print(test_set)"
   ]
  },
  {
   "cell_type": "code",
   "execution_count": 48,
   "id": "5a157e1c-e949-47cc-870d-c5c1ac767dee",
   "metadata": {},
   "outputs": [
    {
     "name": "stdout",
     "output_type": "stream",
     "text": [
      "Random Element Set {96, 5, 40, 11, 46, 85, 26}\n"
     ]
    }
   ],
   "source": [
    "#28. Create a set of random numbers.\n",
    "import random\n",
    "test_set={random.randint(1,100) for i in range(10)}\n",
    "print('random element set'.title(),test_set)"
   ]
  },
  {
   "cell_type": "code",
   "execution_count": 49,
   "id": "0df69613-a26f-4aff-b681-9bc4ce60859e",
   "metadata": {},
   "outputs": [
    {
     "name": "stdout",
     "output_type": "stream",
     "text": [
      "Empty Set\n"
     ]
    }
   ],
   "source": [
    "#29. Check if a set is empty.\n",
    "test_set=set()\n",
    "if len(test_set)==0:\n",
    "    print('empty set'.title())\n",
    "else:\n",
    "    print('not empty set'.title())    "
   ]
  },
  {
   "cell_type": "code",
   "execution_count": 52,
   "id": "76dc71a1-666d-414e-9f9c-bbeb5cfb9b75",
   "metadata": {},
   "outputs": [
    {
     "name": "stdout",
     "output_type": "stream",
     "text": [
      "{1, 2, 34, frozenset({56, 2, 3, 4}), 5, 7, 8, 89}\n"
     ]
    }
   ],
   "source": [
    "#30. Create a nested set (hint: use frozenset).\n",
    "nested_set={1,2,34,5,frozenset({2,3,4,56}),7,8,89}\n",
    "print(nested_set)"
   ]
  },
  {
   "cell_type": "code",
   "execution_count": 53,
   "id": "e3b8fc5d-001a-438c-b2ba-4e8f46f45502",
   "metadata": {},
   "outputs": [
    {
     "name": "stdout",
     "output_type": "stream",
     "text": [
      "Set Before Removing Item {1, 2, 3, 4, 5, 6, 7, 8, 9}\n",
      "Set After Removing Item {1, 2, 3, 4, 5, 6, 8, 9}\n"
     ]
    }
   ],
   "source": [
    "#31. Remove an element from a set using the discard method.\n",
    "test_set={1,2,3,5,8,9,4,6,7}\n",
    "print('set before removing item'.title(),test_set)\n",
    "test_set.discard(7)\n",
    "print('set after removing item'.title(),test_set)"
   ]
  },
  {
   "cell_type": "code",
   "execution_count": 54,
   "id": "298763d5-5a9b-4690-8b53-0caaba66be3c",
   "metadata": {},
   "outputs": [
    {
     "name": "stdout",
     "output_type": "stream",
     "text": [
      "Set 1: {1, 2, 3, 4, 5}\n",
      "Set 2: {4, 5, 6, 7, 8}\n",
      "Is set1 a subset of set2? False\n",
      "Is set2 a subset of set1? False\n",
      "Intersection: {4, 5}\n",
      "Union: {1, 2, 3, 4, 5, 6, 7, 8}\n",
      "Elements in set1 but not in set2: {1, 2, 3}\n",
      "Elements in set2 but not in set1: {8, 6, 7}\n"
     ]
    }
   ],
   "source": [
    "#32. Compare two sets.32. Compare two sets.\n",
    "# Step 1: Define two sets\n",
    "test_set1 = {1, 2, 3, 4, 5}\n",
    "test_set2 = {4, 5, 6, 7, 8}\n",
    "\n",
    "# Step 2: Use set operations to compare the sets\n",
    "# Check if set1 is a subset of set2\n",
    "is_subset = test_set1.issubset(test_set2)\n",
    "\n",
    "# Check if set2 is a subset of set1\n",
    "is_superset = test_set1.issuperset(test_set2)\n",
    "\n",
    "# Find the intersection of the sets\n",
    "intersection = test_set1.intersection(test_set2)\n",
    "\n",
    "# Find the union of the sets\n",
    "union = test_set1.union(test_set2)\n",
    "\n",
    "# Find the elements that are in set1 but not in set2\n",
    "difference1 = test_set1.difference(test_set2)\n",
    "\n",
    "# Find the elements that are in set2 but not in set1\n",
    "difference2 = test_set2.difference(test_set1)\n",
    "\n",
    "# Step 3: Print the results\n",
    "print(\"Set 1:\", test_set1)\n",
    "print(\"Set 2:\", test_set2)\n",
    "print(\"Is set1 a subset of set2?\", is_subset)\n",
    "print(\"Is set2 a subset of set1?\", is_superset)\n",
    "print(\"Intersection:\", intersection)\n",
    "print(\"Union:\", union)\n",
    "print(\"Elements in set1 but not in set2:\", difference1)\n",
    "print(\"Elements in set2 but not in set1:\", difference2)"
   ]
  },
  {
   "cell_type": "code",
   "execution_count": 55,
   "id": "2dc89fff-8d09-49cf-9dac-03de0188dc07",
   "metadata": {},
   "outputs": [
    {
     "name": "stdout",
     "output_type": "stream",
     "text": [
      "{'t', 'S', 'H', 'e', ' ', 's', 'n', 'o', 'l', 'd', 'u'}\n"
     ]
    }
   ],
   "source": [
    "#33. Create a set from a string.\n",
    "in_str=\"hello students\".title()\n",
    "str_set=set(in_str)\n",
    "print(str_set)"
   ]
  },
  {
   "cell_type": "code",
   "execution_count": 56,
   "id": "f6d87933-ef92-4acd-9824-911aa323e2d6",
   "metadata": {},
   "outputs": [
    {
     "name": "stdout",
     "output_type": "stream",
     "text": [
      "{1, 2, 3, 4, 5}\n"
     ]
    }
   ],
   "source": [
    "#34. Convert a set of strings to a set of integerstr\n",
    "str_set={'1','2','3','4','5'}\n",
    "int_set={int(x) for x in str_set}\n",
    "print(int_set)"
   ]
  },
  {
   "cell_type": "code",
   "execution_count": 57,
   "id": "98f94804-9084-48d7-842e-adf69ba4f8d3",
   "metadata": {},
   "outputs": [
    {
     "name": "stdout",
     "output_type": "stream",
     "text": [
      "{'2', '5', '1', '3', '4'}\n"
     ]
    }
   ],
   "source": [
    "#35. Convert a set of integers to a set of strings.\n",
    "int_set={1, 2, 3, 4, 5}\n",
    "str_set={str(x) for x in str_set}\n",
    "print(str_set)"
   ]
  },
  {
   "cell_type": "code",
   "execution_count": 58,
   "id": "3468ac6c-fee9-4477-9975-f35381d430e2",
   "metadata": {},
   "outputs": [
    {
     "name": "stdout",
     "output_type": "stream",
     "text": [
      "Tuple Before Creating Set (1, 2, 3, 4, 56)\n",
      "Set After Creating Set {1, 2, 3, 4, 56}\n"
     ]
    }
   ],
   "source": [
    "#36. Create a set from a tuple.\n",
    "test_tuple=(1,2,3,4,56)\n",
    "print(\"tuple Before creating set\".title(),test_tuple)\n",
    "test_set=set(test_tuple)\n",
    "print(\"set after creating set\".title(),test_set)"
   ]
  },
  {
   "cell_type": "code",
   "execution_count": 60,
   "id": "234c7aad-b2e4-4c82-a99c-3bb58bb485b7",
   "metadata": {},
   "outputs": [
    {
     "name": "stdout",
     "output_type": "stream",
     "text": [
      "Set Before Creating Tuple {1, 2, 3, 4, 56}\n",
      "Tuple After Creating Tupler (1, 2, 3, 4, 56)\n"
     ]
    }
   ],
   "source": [
    "#37. Convert a set to a tuple.\n",
    "test_set={1,2,3,4,56}\n",
    "print(\"set Before creating tuple\".title(),test_set)\n",
    "test_tuple=tuple(test_tuple)\n",
    "print(\"tuple after creating tupler\".title(),test_tuple)"
   ]
  },
  {
   "cell_type": "code",
   "execution_count": 61,
   "id": "9d0c5863-0a01-4fbb-9e18-6091a20519ae",
   "metadata": {},
   "outputs": [
    {
     "name": "stdout",
     "output_type": "stream",
     "text": [
      "Maximum Item In Set 768\n"
     ]
    }
   ],
   "source": [
    "#38. Find the maximum value in a set.\n",
    "test_set={56,98,6,8,90,768}\n",
    "max_item=max(test_set)\n",
    "print('maximum item in set'.title(),max_item)"
   ]
  },
  {
   "cell_type": "code",
   "execution_count": 63,
   "id": "b35b0d65-bb93-45e6-8ebc-4099dc85cff4",
   "metadata": {},
   "outputs": [
    {
     "name": "stdout",
     "output_type": "stream",
     "text": [
      "Minimum Item In Set 6\n"
     ]
    }
   ],
   "source": [
    "#39. Find the minimum value in a set.\n",
    "test_set={56,98,6,8,90,768}\n",
    "min_item=min(test_set)\n",
    "print('minimum item in set'.title(),min_item)"
   ]
  },
  {
   "cell_type": "code",
   "execution_count": 64,
   "id": "74cd862a-5741-4182-a8d1-6dfaf69fd3c3",
   "metadata": {},
   "outputs": [
    {
     "name": "stdin",
     "output_type": "stream",
     "text": [
      "ENTER A SET {4,6,7,8,9,4,8987}\n"
     ]
    },
    {
     "name": "stdout",
     "output_type": "stream",
     "text": [
      "{4, 6, 7, 8, 9, 8987}\n"
     ]
    }
   ],
   "source": [
    "#40. Create a set from user input.\n",
    "test_set=eval(input(\"enter a set\".upper()))\n",
    "print(test_set)"
   ]
  },
  {
   "cell_type": "code",
   "execution_count": 65,
   "id": "ca1b556c-ea08-428c-b1a2-a138d16ed0c4",
   "metadata": {},
   "outputs": [
    {
     "name": "stdout",
     "output_type": "stream",
     "text": [
      "Intersection Of Set Is Empty\n"
     ]
    }
   ],
   "source": [
    "#41. Check if the intersection of two sets is empty.\n",
    "test_set1={1,2,3,5,8,9,6,7}\n",
    "test_set2={24,26,13,17,90}\n",
    "if len(test_set1.intersection(test_set2))==0:\n",
    "    print(\"intersection of set is empty\".title())\n",
    "else:\n",
    "    print(\"intersection of set is not empty\".title())"
   ]
  },
  {
   "cell_type": "code",
   "execution_count": 66,
   "id": "141e0ffe-c6be-4a32-8d37-356f10467082",
   "metadata": {},
   "outputs": [
    {
     "name": "stdout",
     "output_type": "stream",
     "text": [
      "First 10 Fibonacci numbers:\n",
      "{0, 1, 2, 3, 5}\n"
     ]
    }
   ],
   "source": [
    "#42. Create a set of the first 5 Fibonacci numbers.\n",
    "def fibonacci_nums(n):\n",
    "  if n <= 0:\n",
    "    return [0]\n",
    "  sequence = [0, 1]\n",
    "  while len(sequence) <= n:\n",
    "    next_value = sequence[len(sequence) - 1] + sequence[len(sequence) - 2]\n",
    "    sequence.append(next_value)\n",
    "  return sequence\n",
    "print(\"First 10 Fibonacci numbers:\")\n",
    "print(set(fibonacci_nums(5)))"
   ]
  },
  {
   "cell_type": "code",
   "execution_count": 67,
   "id": "45571fc1-dd15-4245-ab96-295ed266ff25",
   "metadata": {},
   "outputs": [
    {
     "name": "stdout",
     "output_type": "stream",
     "text": [
      "List After Removing Duplicate [1, 2, 3, 4, 5, 6]\n"
     ]
    }
   ],
   "source": [
    "#43. Remove duplicates from a list using sets.\n",
    "test_list=[1,2,3,3,4,5,3,4,5,6,5,6,4,5,]\n",
    "# removing duplicate\n",
    "test_list=list(set(test_list))\n",
    "print('list after removing duplicate'.title(),test_list)"
   ]
  },
  {
   "cell_type": "code",
   "execution_count": 68,
   "id": "f471a0d0-ce73-4ff5-9a19-e47d6d354ac7",
   "metadata": {},
   "outputs": [
    {
     "name": "stdout",
     "output_type": "stream",
     "text": [
      "First Set: {1, 2, 3, 5, 8, 9}\n",
      "Second Set: {1, 2, 3, 5, 8, 9}\n",
      "The Sets Have The Same Elements.\n"
     ]
    }
   ],
   "source": [
    "#44. Check if two sets have the same elements, regardless of their count.\n",
    "test_set1={1,2,3,5,8,9}\n",
    "test_set2={3,5,8,9,1,2}\n",
    "print('first set:'.title(),test_set1)\n",
    "print('second set:'.title(),test_set2)\n",
    "if test_set1==set(sorted(test_set2)):\n",
    "    print('The sets have the same elements.'.title())\n",
    "else:\n",
    "    print('The sets do not  have the same elements.'.title())"
   ]
  },
  {
   "cell_type": "code",
   "execution_count": 69,
   "id": "02e6603b-16fb-44ac-9e01-3734716c9c41",
   "metadata": {},
   "outputs": [
    {
     "name": "stdout",
     "output_type": "stream",
     "text": [
      "{32, 1, 2, 4, 8, 16}\n"
     ]
    }
   ],
   "source": [
    "#45. Create a set of the first `n` powers of 2.\n",
    "pow_set={2**x for x in range(6)}\n",
    "print(pow_set)"
   ]
  },
  {
   "cell_type": "code",
   "execution_count": 70,
   "id": "4bffb53b-b7dd-43f7-b69c-e829c33e5b1e",
   "metadata": {},
   "outputs": [
    {
     "name": "stdout",
     "output_type": "stream",
     "text": [
      "COMMON ITEN BETWEEN LIST AND SET ARE :  [9, 2]\n"
     ]
    }
   ],
   "source": [
    "#46. Find the common elements between a set and a list.\n",
    "test_set={1,2,3,5,8,9,6,7}\n",
    "test_list=[2,4,2,6,13,17,9]\n",
    "comm_item=list(test_set1.intersection(set(test_list)))\n",
    "print('common iten between list and set are : '.upper(),comm_item)"
   ]
  },
  {
   "cell_type": "code",
   "execution_count": 72,
   "id": "3858fc4d-85d5-4317-85dc-9a896475851d",
   "metadata": {},
   "outputs": [
    {
     "name": "stdin",
     "output_type": "stream",
     "text": [
      "Enter A number 6\n"
     ]
    },
    {
     "name": "stdout",
     "output_type": "stream",
     "text": [
      "{1, 3, 6, 10, 15, 21}\n"
     ]
    }
   ],
   "source": [
    "#47. Create a set of the first `n` triangular numbers.\n",
    "n=int(input(\"Enter A number\"))\n",
    "triangular_tuple=[1]\n",
    "for i in range(2,n+1):\n",
    "    triangular_tuple.append(triangular_tuple[-1]+i)\n",
    "print(set(triangular_tuple))"
   ]
  },
  {
   "cell_type": "code",
   "execution_count": 75,
   "id": "3ebb5681-6393-48e9-bd88-7f7db61102b2",
   "metadata": {},
   "outputs": [
    {
     "name": "stdout",
     "output_type": "stream",
     "text": [
      "Tuple Contains Another Set As A Subsequence\n"
     ]
    }
   ],
   "source": [
    "#48. Check if a set contains another set as a subset.\n",
    "test_set=(1,2,'a',8,frozenset({8,9}),9,0)\n",
    "for item in test_set:\n",
    "    if type(item)==frozenset:\n",
    "        print('tuple contains another set as a subsequence'.title())\n",
    "        break\n",
    "else:\n",
    "    print('tuple not contains another set as a subsequence'.title())"
   ]
  },
  {
   "cell_type": "code",
   "execution_count": 76,
   "id": "25a3ee6f-7e79-460a-833d-cd9c7012374a",
   "metadata": {},
   "outputs": [
    {
     "name": "stdout",
     "output_type": "stream",
     "text": [
      "{0, 1}\n"
     ]
    }
   ],
   "source": [
    "#49. Create a set of alternating 1s and 0s of length `n`.\n",
    "test_set=set(1 if x%2==1  else 0 for x in range(1,50))\n",
    "print(test_set)"
   ]
  },
  {
   "cell_type": "code",
   "execution_count": null,
   "id": "d865afba-ef5a-435e-a289-6484b2cd68d9",
   "metadata": {},
   "outputs": [],
   "source": [
    "#50. Merge multiple sets into one.\n",
    "test_set1={2,3,4}\n",
    "test_set2={9,8,6,8}\n",
    "tees"
   ]
  }
 ],
 "metadata": {
  "kernelspec": {
   "display_name": "Python 3 (ipykernel)",
   "language": "python",
   "name": "python3"
  },
  "language_info": {
   "codemirror_mode": {
    "name": "ipython",
    "version": 3
   },
   "file_extension": ".py",
   "mimetype": "text/x-python",
   "name": "python",
   "nbconvert_exporter": "python",
   "pygments_lexer": "ipython3",
   "version": "3.10.8"
  }
 },
 "nbformat": 4,
 "nbformat_minor": 5
}
